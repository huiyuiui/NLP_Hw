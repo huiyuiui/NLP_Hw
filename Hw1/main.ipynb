{
  "cells": [
    {
      "cell_type": "markdown",
      "metadata": {
        "id": "p6yklm2xWn9f"
      },
      "source": [
        "## Part I: Data Pre-processing"
      ]
    },
    {
      "cell_type": "code",
      "execution_count": 6,
      "metadata": {
        "id": "YycoIJomXwqH"
      },
      "outputs": [],
      "source": [
        "import pandas as pd\n",
        "import numpy as np"
      ]
    },
    {
      "cell_type": "code",
      "execution_count": 50,
      "metadata": {
        "id": "KKAXuhZIUxD8"
      },
      "outputs": [],
      "source": [
        "# Download the Google Analogy dataset\n",
        "# !wget http://download.tensorflow.org/data/questions-words.txt"
      ]
    },
    {
      "cell_type": "code",
      "execution_count": 51,
      "metadata": {
        "id": "xue5pVFLVNQQ"
      },
      "outputs": [],
      "source": [
        "# Preprocess the dataset\n",
        "file_name = \"questions-words\"\n",
        "with open(f\"{file_name}.txt\", \"r\") as f:\n",
        "    data = f.read().splitlines()"
      ]
    },
    {
      "cell_type": "code",
      "execution_count": 52,
      "metadata": {
        "id": "h7dOdJOsZzAF"
      },
      "outputs": [
        {
          "name": "stdout",
          "output_type": "stream",
          "text": [
            ": capital-common-countries\n",
            "Athens Greece Baghdad Iraq\n",
            "Athens Greece Bangkok Thailand\n",
            "Athens Greece Beijing China\n",
            "Athens Greece Berlin Germany\n",
            "Athens Greece Bern Switzerland\n",
            "Athens Greece Cairo Egypt\n",
            "Athens Greece Canberra Australia\n",
            "Athens Greece Hanoi Vietnam\n",
            "Athens Greece Havana Cuba\n"
          ]
        }
      ],
      "source": [
        "# check data from the first 10 entries\n",
        "for entry in data[:10]:\n",
        "    print(entry)"
      ]
    },
    {
      "cell_type": "code",
      "execution_count": 53,
      "metadata": {
        "id": "wmYQ0IWZZxf3"
      },
      "outputs": [],
      "source": [
        "# TODO1: Write your code here for processing data to pd.DataFrame\n",
        "# Please note that the first five mentions of \": \" indicate `semantic`,\n",
        "# and the remaining nine belong to the `syntatic` category.\n",
        "questions = []\n",
        "categories = []\n",
        "sub_categories = []\n",
        "now_categories = \"semeantic\"\n",
        "now_sub_categories = \"\"\n",
        "count = 0\n",
        "for line in data:\n",
        "    if(\":\" in line):\n",
        "        count += 1\n",
        "        now_sub_categories = line\n",
        "        if(count >= 6):\n",
        "            now_categories = 'syntatic'\n",
        "        continue\n",
        "    else:\n",
        "        questions.append(line)\n",
        "        categories.append(now_categories)\n",
        "        sub_categories.append(now_sub_categories)\n"
      ]
    },
    {
      "cell_type": "code",
      "execution_count": 54,
      "metadata": {
        "id": "_bKA05rVZb_i"
      },
      "outputs": [],
      "source": [
        "# Create the dataframe\n",
        "df = pd.DataFrame(\n",
        "    {\n",
        "        \"Question\": questions,\n",
        "        \"Category\": categories,\n",
        "        \"SubCategory\": sub_categories,\n",
        "    }\n",
        ")"
      ]
    },
    {
      "cell_type": "code",
      "execution_count": 55,
      "metadata": {
        "id": "UN2FBcicZmpV"
      },
      "outputs": [
        {
          "data": {
            "text/html": [
              "<div>\n",
              "<style scoped>\n",
              "    .dataframe tbody tr th:only-of-type {\n",
              "        vertical-align: middle;\n",
              "    }\n",
              "\n",
              "    .dataframe tbody tr th {\n",
              "        vertical-align: top;\n",
              "    }\n",
              "\n",
              "    .dataframe thead th {\n",
              "        text-align: right;\n",
              "    }\n",
              "</style>\n",
              "<table border=\"1\" class=\"dataframe\">\n",
              "  <thead>\n",
              "    <tr style=\"text-align: right;\">\n",
              "      <th></th>\n",
              "      <th>Question</th>\n",
              "      <th>Category</th>\n",
              "      <th>SubCategory</th>\n",
              "    </tr>\n",
              "  </thead>\n",
              "  <tbody>\n",
              "    <tr>\n",
              "      <th>0</th>\n",
              "      <td>Athens Greece Baghdad Iraq</td>\n",
              "      <td>semeantic</td>\n",
              "      <td>: capital-common-countries</td>\n",
              "    </tr>\n",
              "    <tr>\n",
              "      <th>1</th>\n",
              "      <td>Athens Greece Bangkok Thailand</td>\n",
              "      <td>semeantic</td>\n",
              "      <td>: capital-common-countries</td>\n",
              "    </tr>\n",
              "    <tr>\n",
              "      <th>2</th>\n",
              "      <td>Athens Greece Beijing China</td>\n",
              "      <td>semeantic</td>\n",
              "      <td>: capital-common-countries</td>\n",
              "    </tr>\n",
              "    <tr>\n",
              "      <th>3</th>\n",
              "      <td>Athens Greece Berlin Germany</td>\n",
              "      <td>semeantic</td>\n",
              "      <td>: capital-common-countries</td>\n",
              "    </tr>\n",
              "    <tr>\n",
              "      <th>4</th>\n",
              "      <td>Athens Greece Bern Switzerland</td>\n",
              "      <td>semeantic</td>\n",
              "      <td>: capital-common-countries</td>\n",
              "    </tr>\n",
              "  </tbody>\n",
              "</table>\n",
              "</div>"
            ],
            "text/plain": [
              "                         Question   Category                 SubCategory\n",
              "0      Athens Greece Baghdad Iraq  semeantic  : capital-common-countries\n",
              "1  Athens Greece Bangkok Thailand  semeantic  : capital-common-countries\n",
              "2     Athens Greece Beijing China  semeantic  : capital-common-countries\n",
              "3    Athens Greece Berlin Germany  semeantic  : capital-common-countries\n",
              "4  Athens Greece Bern Switzerland  semeantic  : capital-common-countries"
            ]
          },
          "execution_count": 55,
          "metadata": {},
          "output_type": "execute_result"
        }
      ],
      "source": [
        "df.head()"
      ]
    },
    {
      "cell_type": "code",
      "execution_count": 56,
      "metadata": {
        "id": "nMGvoDeiZhbp"
      },
      "outputs": [],
      "source": [
        "df.to_csv(f\"{file_name}.csv\", index=False)"
      ]
    },
    {
      "cell_type": "markdown",
      "metadata": {
        "id": "Zi2SNNuHWiZO"
      },
      "source": [
        "## Part II: Use pre-trained word embeddings\n",
        "- After finish Part I, you can run Part II code blocks only."
      ]
    },
    {
      "cell_type": "code",
      "execution_count": 7,
      "metadata": {
        "id": "yB4rpJymXiSN"
      },
      "outputs": [],
      "source": [
        "import pandas as pd\n",
        "import numpy as np\n",
        "import gensim.downloader\n",
        "from tqdm import tqdm\n",
        "import matplotlib.pyplot as plt\n",
        "from sklearn.manifold import TSNE"
      ]
    },
    {
      "cell_type": "code",
      "execution_count": 57,
      "metadata": {
        "id": "-pGLoyKSHXuQ"
      },
      "outputs": [],
      "source": [
        "data = pd.read_csv(\"questions-words.csv\")"
      ]
    },
    {
      "cell_type": "code",
      "execution_count": 11,
      "metadata": {
        "id": "YWa_1hF3aZHO"
      },
      "outputs": [
        {
          "name": "stdout",
          "output_type": "stream",
          "text": [
            "[==================================================] 100.0% 128.1/128.1MB downloaded\n",
            "The Gensim model loaded successfully!\n"
          ]
        }
      ],
      "source": [
        "MODEL_NAME = \"glove-wiki-gigaword-100\"\n",
        "# You can try other models.\n",
        "# https://radimrehurek.com/gensim/models/word2vec.html#pretrained-models\n",
        "\n",
        "# Load the pre-trained model (using GloVe vectors here)\n",
        "model = gensim.downloader.load(MODEL_NAME)\n",
        "print(\"The Gensim model loaded successfully!\")"
      ]
    },
    {
      "cell_type": "code",
      "execution_count": 26,
      "metadata": {
        "id": "YTsqJcP1WSTH"
      },
      "outputs": [
        {
          "name": "stderr",
          "output_type": "stream",
          "text": [
            "100%|██████████| 19544/19544 [04:13<00:00, 77.22it/s]\n"
          ]
        }
      ],
      "source": [
        "# Do predictions and preserve the gold answers (word_D)\n",
        "preds = []\n",
        "golds = []\n",
        "\n",
        "for analogy in tqdm(data[\"Question\"]):\n",
        "      # TODO2: Write your code here to use pre-trained word embeddings for getting predictions of the analogy task.\n",
        "      # You should also preserve the gold answers during iterations for evaluations later.\n",
        "      \"\"\" Hints\n",
        "      # Unpack the analogy (e.g., \"man\", \"woman\", \"king\", \"queen\")\n",
        "      # Perform vector arithmetic: word_b + word_c - word_a should be close to word_d\n",
        "      # Source: https://github.com/piskvorky/gensim/blob/develop/gensim/models/keyedvectors.py#L776\n",
        "      # Mikolov et al., 2013: big - biggest and small - smallest\n",
        "      # Mikolov et al., 2013: X = vector(”biggest”) − vector(”big”) + vector(”small”).\n",
        "      \"\"\"\n",
        "      A, B, C, D = analogy.split(' ')\n",
        "      output = model.most_similar(positive=[B.lower(), C.lower()], negative=[A.lower()], topn=1)\n",
        "      if(D[0].isupper()): pred = output[0][0].capitalize()\n",
        "      else: pred = output[0][0]\n",
        "      preds.append(pred)\n",
        "      golds.append(D)"
      ]
    },
    {
      "cell_type": "code",
      "execution_count": 27,
      "metadata": {
        "id": "xG7vcPXAW6uT"
      },
      "outputs": [
        {
          "name": "stdout",
          "output_type": "stream",
          "text": [
            "Category: semeantic, Accuracy: 65.3399481339497%\n",
            "Category: syntatic, Accuracy: 61.255269320843084%\n",
            "Sub-Category: capital-common-countries, Accuracy: 93.87351778656127%\n",
            "Sub-Category: capital-world, Accuracy: 88.94783377541998%\n",
            "Sub-Category: currency, Accuracy: 14.203233256351039%\n",
            "Sub-Category: city-in-state, Accuracy: 30.806647750304013%\n",
            "Sub-Category: family, Accuracy: 81.62055335968378%\n",
            "Sub-Category: gram1-adjective-to-adverb, Accuracy: 24.39516129032258%\n",
            "Sub-Category: gram2-opposite, Accuracy: 20.073891625615765%\n",
            "Sub-Category: gram3-comparative, Accuracy: 79.12912912912913%\n",
            "Sub-Category: gram4-superlative, Accuracy: 54.278074866310156%\n",
            "Sub-Category: gram5-present-participle, Accuracy: 69.50757575757575%\n",
            "Sub-Category: gram6-nationality-adjective, Accuracy: 87.86741713570981%\n",
            "Sub-Category: gram7-past-tense, Accuracy: 55.44871794871795%\n",
            "Sub-Category: gram8-plural, Accuracy: 71.996996996997%\n",
            "Sub-Category: gram9-plural-verbs, Accuracy: 58.39080459770115%\n"
          ]
        }
      ],
      "source": [
        "# Perform evaluations. You do not need to modify this block!!\n",
        "\n",
        "def calculate_accuracy(gold: np.ndarray, pred: np.ndarray) -> float:\n",
        "    return np.mean(gold == pred)\n",
        "\n",
        "golds_np, preds_np = np.array(golds), np.array(preds)\n",
        "data = pd.read_csv(\"questions-words.csv\")\n",
        "\n",
        "# Evaluation: categories\n",
        "for category in data[\"Category\"].unique():\n",
        "    mask = data[\"Category\"] == category\n",
        "    golds_cat, preds_cat = golds_np[mask], preds_np[mask]\n",
        "    acc_cat = calculate_accuracy(golds_cat, preds_cat)\n",
        "    print(f\"Category: {category}, Accuracy: {acc_cat * 100}%\")\n",
        "\n",
        "# Evaluation: sub-categories\n",
        "for sub_category in data[\"SubCategory\"].unique():\n",
        "    mask = data[\"SubCategory\"] == sub_category\n",
        "    golds_subcat, preds_subcat = golds_np[mask], preds_np[mask]\n",
        "    acc_subcat = calculate_accuracy(golds_subcat, preds_subcat)\n",
        "    print(f\"Sub-Category{sub_category}, Accuracy: {acc_subcat * 100}%\")"
      ]
    },
    {
      "cell_type": "code",
      "execution_count": 64,
      "metadata": {},
      "outputs": [
        {
          "name": "stderr",
          "output_type": "stream",
          "text": [
            "100%|██████████| 506/506 [00:00<00:00, 506882.69it/s]"
          ]
        },
        {
          "name": "stdout",
          "output_type": "stream",
          "text": [
            "(46, 100)\n"
          ]
        },
        {
          "name": "stderr",
          "output_type": "stream",
          "text": [
            "\n"
          ]
        }
      ],
      "source": [
        "filtered_data = data[data['SubCategory'].str.contains('family', case=False)]\n",
        "unique_word = []\n",
        "\n",
        "for analogy in tqdm(filtered_data['Question']):\n",
        "    words = analogy.split(' ')\n",
        "    for word in words:\n",
        "        if(word not in unique_word):\n",
        "            unique_word.append(word)\n",
        "            \n",
        "vectors = []\n",
        "for word in unique_word:\n",
        "    vectors.append(model[word])\n",
        "\n",
        "vectors = np.array(vectors)\n",
        "print(vectors.shape)"
      ]
    },
    {
      "cell_type": "code",
      "execution_count": 71,
      "metadata": {
        "id": "7_z6CybBXKZu"
      },
      "outputs": [
        {
          "name": "stderr",
          "output_type": "stream",
          "text": [
            "100%|██████████| 506/506 [00:00<00:00, 505916.05it/s]"
          ]
        },
        {
          "name": "stderr",
          "output_type": "stream",
          "text": [
            "\n"
          ]
        },
        {
          "data": {
            "image/png": "[encoded data removed]",
            "text/plain": [
              "<Figure size 1000x600 with 1 Axes>"
            ]
          },
          "metadata": {},
          "output_type": "display_data"
        }
      ],
      "source": [
        "# Collect words from Google Analogy dataset\n",
        "SUB_CATEGORY = \": family\"\n",
        "\n",
        "# TODO3: Plot t-SNE for the words in the SUB_CATEGORY `: family`\n",
        "tsne = TSNE(n_components=2)\n",
        "\n",
        "filtered_data = data[data['SubCategory'].str.contains('family', case=False)]\n",
        "unique_word = []\n",
        "\n",
        "for analogy in tqdm(filtered_data['Question']):\n",
        "    words = analogy.split(' ')\n",
        "    for word in words:\n",
        "        if(word not in unique_word):\n",
        "            unique_word.append(word)\n",
        "\n",
        "vectors = []\n",
        "for word in unique_word:\n",
        "    vectors.append(model[word])\n",
        "    \n",
        "vectors = np.array(vectors)\n",
        "reduce_vectors= tsne.fit_transform(vectors)\n",
        "\n",
        "# The following code refers to GPT\n",
        "plt.figure(figsize=(10, 6))\n",
        "plt.title(\"Word Relationships from Google Analogy Task\")\n",
        "\n",
        "for word, vector in zip(unique_word, reduce_vectors):\n",
        "    x, y = vector\n",
        "    plt.scatter(x, y, c='b', s=3)\n",
        "    plt.annotate(word, (x+0.01, y+0.01), fontsize=6)\n",
        "\n",
        "plt.savefig(\"word_relationships_pretrained.png\", bbox_inches=\"tight\")\n",
        "plt.show()"
      ]
    },
    {
      "cell_type": "markdown",
      "metadata": {
        "id": "DKRPJxgKXH4j"
      },
      "source": [
        "### Part III: Train your own word embeddings"
      ]
    },
    {
      "cell_type": "markdown",
      "metadata": {
        "id": "VC_0fE1UzL8T"
      },
      "source": [
        "### Get the latest English Wikipedia articles and do sampling.\n",
        "- Usually, we start from Wikipedia dump (https://dumps.wikimedia.org/enwiki/latest/enwiki-latest-pages-articles.xml.bz2). However, the downloading step will take very long. Also, the cleaning step for the Wikipedia corpus ([`gensim.corpora.wikicorpus.WikiCorpus`](https://radimrehurek.com/gensim/corpora/wikicorpus.html#gensim.corpora.wikicorpus.WikiCorpus)) will take much time. Therefore, we provide cleaned files for you."
      ]
    },
    {
      "cell_type": "code",
      "execution_count": null,
      "metadata": {
        "id": "FkubArwCCYxR"
      },
      "outputs": [],
      "source": [
        "# Download the split Wikipedia files\n",
        "# Each file contain 562365 lines (articles).\n",
        "# !gdown --id 1jiu9E1NalT2Y8EIuWNa1xf2Tw1f1XuGd -O wiki_texts_part_0.txt.gz\n",
        "# !gdown --id 1ABblLRd9HXdXvaNv8H9fFq984bhnowoG -O wiki_texts_part_1.txt.gz\n",
        "# !gdown --id 1z2VFNhpPvCejTP5zyejzKj5YjI_Bn42M -O wiki_texts_part_2.txt.gz\n",
        "# !gdown --id 1VKjded9BxADRhIoCzXy_W8uzVOTWIf0g -O wiki_texts_part_3.txt.gz\n",
        "# !gdown --id 16mBeG26m9LzHXdPe8UrijUIc6sHxhknz -O wiki_texts_part_4.txt.gz"
      ]
    },
    {
      "cell_type": "code",
      "execution_count": null,
      "metadata": {
        "id": "8S3ibNT3C8Xk"
      },
      "outputs": [],
      "source": [
        "# Download the split Wikipedia files\n",
        "# Each file contain 562365 lines (articles), except the last file.\n",
        "# !gdown --id 17JFvxOH-kc-VmvGkhG7p3iSZSpsWdgJI -O wiki_texts_part_5.txt.gz\n",
        "# !gdown --id 19IvB2vOJRGlrYulnTXlZECR8zT5v550P -O wiki_texts_part_6.txt.gz\n",
        "# !gdown --id 1sjwO8A2SDOKruv6-8NEq7pEIuQ50ygVV -O wiki_texts_part_7.txt.gz\n",
        "# !gdown --id 1s7xKWJmyk98Jbq6Fi1scrHy7fr_ellUX -O wiki_texts_part_8.txt.gz\n",
        "# !gdown --id 17eQXcrvY1cfpKelLbP2BhQKrljnFNykr -O wiki_texts_part_9.txt.gz\n",
        "# !gdown --id 1J5TAN6bNBiSgTIYiPwzmABvGhAF58h62 -O wiki_texts_part_10.txt.gz"
      ]
    },
    {
      "cell_type": "code",
      "execution_count": null,
      "metadata": {
        "id": "DUg_c79BC7OL"
      },
      "outputs": [],
      "source": [
        "# Extract the downloaded wiki_texts_parts files.\n",
        "# !gunzip -k wiki_texts_part_*.gz"
      ]
    },
    {
      "cell_type": "code",
      "execution_count": null,
      "metadata": {
        "id": "7duk2RbYDB02"
      },
      "outputs": [],
      "source": [
        "# Combine the extracted wiki_texts_parts files.\n",
        "# !cat wiki_texts_part_*.txt > wiki_texts_combined.txt"
      ]
    },
    {
      "cell_type": "code",
      "execution_count": null,
      "metadata": {
        "id": "givLH7NrDs6X"
      },
      "outputs": [],
      "source": [
        "# Check the first ten lines of the combined file\n",
        "# !head -n 10 wiki_texts_combined.txt"
      ]
    },
    {
      "cell_type": "markdown",
      "metadata": {
        "id": "Hfwx92QCEhrq"
      },
      "source": [
        "Please note that we used the default parameters of [`gensim.corpora.wikicorpus.WikiCorpus`](https://radimrehurek.com/gensim/corpora/wikicorpus.html#gensim.corpora.wikicorpus.WikiCorpus) for cleaning the Wiki raw file. Thus, words with one character were discarded."
      ]
    },
    {
      "cell_type": "code",
      "execution_count": 13,
      "metadata": {
        "id": "vUAzButoP03w"
      },
      "outputs": [],
      "source": [
        "# Now you need to do sampling because the corpus is too big.\n",
        "# You can further perform analysis with a greater sampling ratio.\n",
        "\n",
        "import random\n",
        "\n",
        "wiki_txt_path = \"wiki_texts_combined.txt\"\n",
        "output_path = 'wiki_texts_sample.txt'\n",
        "# wiki_texts_combined.txt is a text file separated by linebreaks (\\n).\n",
        "# Each row in wiki_texts_combined.txt indicates a Wikipedia article.\n",
        "\n",
        "with open(wiki_txt_path, \"r\", encoding=\"utf-8\") as f:\n",
        "    with open(output_path, \"w\", encoding=\"utf-8\") as output_file:\n",
        "    # TODO4: Sample `20%` Wikipedia articles\n",
        "    # Write your code here\n",
        "        for line in f:\n",
        "            if random.random() <= 0.2:\n",
        "                output_file.write(line)"
      ]
    },
    {
      "cell_type": "code",
      "execution_count": 1,
      "metadata": {},
      "outputs": [],
      "source": [
        "import pandas as pd\n",
        "import numpy as np\n",
        "from tqdm import tqdm\n",
        "import matplotlib.pyplot as plt\n",
        "from sklearn.manifold import TSNE"
      ]
    },
    {
      "cell_type": "code",
      "execution_count": 6,
      "metadata": {},
      "outputs": [
        {
          "name": "stdout",
          "output_type": "stream",
          "text": [
            "Total sampled lines: 1124826\n"
          ]
        }
      ],
      "source": [
        "# load saved sampled_txt\n",
        "\n",
        "wiki_sampled_txt_path = 'wiki_texts_sample.txt'\n",
        "\n",
        "with open(wiki_sampled_txt_path, 'r', encoding='utf-8') as file:\n",
        "    sampled_data = file.readlines()\n",
        "    \n",
        "print(\"Total sampled lines:\", len(sampled_data))"
      ]
    },
    {
      "cell_type": "code",
      "execution_count": 7,
      "metadata": {},
      "outputs": [],
      "source": [
        "# extend sample to 30%\n",
        "import random\n",
        "\n",
        "wiki_txt_path = \"wiki_texts_combined.txt\"\n",
        "output_path = 'wiki_texts_temp.txt'\n",
        "\n",
        "with open(wiki_txt_path, \"r\", encoding=\"utf-8\") as f:\n",
        "    with open(output_path, \"w\", encoding=\"utf-8\") as output_file:\n",
        "        for line in f:\n",
        "            if random.random() <= 0.1:\n",
        "                output_file.write(line)"
      ]
    },
    {
      "cell_type": "code",
      "execution_count": 2,
      "metadata": {},
      "outputs": [],
      "source": [
        "additional_sample_path = 'wiki_texts_temp.txt'\n",
        "output_path = 'wiki_texts_extend_sample.txt'\n",
        "\n",
        "with open(additional_sample_path, \"r\", encoding=\"utf-8\") as f:\n",
        "    with open(output_path, \"a\", encoding=\"utf-8\") as output_file:\n",
        "        for line in f:\n",
        "            output_file.write(line)"
      ]
    },
    {
      "cell_type": "code",
      "execution_count": 3,
      "metadata": {
        "id": "G7q1Xzunxkdc"
      },
      "outputs": [
        {
          "name": "stderr",
          "output_type": "stream",
          "text": [
            "1687167it [04:09, 6759.91it/s]\n"
          ]
        }
      ],
      "source": [
        "# TODO5: Train your own word embeddings with the sampled articles\n",
        "# https://radimrehurek.com/gensim/models/word2vec.html#gensim.models.word2vec.Word2Vec\n",
        "# Hint: You should perform some pre-processing before training.\n",
        "\n",
        "# preprocess data and save to disk\n",
        "\n",
        "from gensim.parsing.preprocessing import remove_stopwords, preprocess_string\n",
        "from gensim.parsing.preprocessing import stem_text, strip_numeric\n",
        "\n",
        "wiki_sampled_txt_path = 'wiki_texts_extend_sample.txt'\n",
        "wiki_preprocess_path = 'wiki_texts_extend_processed.txt'\n",
        "\n",
        "filters = [remove_stopwords]\n",
        "\n",
        "with open(wiki_sampled_txt_path, 'r', encoding='utf-8') as file:\n",
        "    with open(wiki_preprocess_path, \"w\", encoding=\"utf-8\") as output_file:\n",
        "        for line in tqdm(file):\n",
        "            processed_line = preprocess_string(line, filters)\n",
        "            output_file.write(' '.join(processed_line) + '\\n')"
      ]
    },
    {
      "cell_type": "code",
      "execution_count": 4,
      "metadata": {},
      "outputs": [],
      "source": [
        "# wiki_preprocess_path = 'wiki_texts_processed.txt'\n",
        "# wiki_sampled_txt_path = 'wiki_texts_sample.txt'\n",
        "wiki_extend_txt_path = 'wiki_texts_extend_sample.txt'\n",
        "\n",
        "class MyCorpus(object):\n",
        "    \"\"\"An interator that yields sentences (lists of str).\"\"\"\n",
        "    def __iter__(self):\n",
        "        for line in tqdm(open(wiki_extend_txt_path)):\n",
        "            yield line.strip().split(' ')\n",
        "\n",
        "corpus = MyCorpus()"
      ]
    },
    {
      "cell_type": "code",
      "execution_count": 5,
      "metadata": {},
      "outputs": [
        {
          "name": "stderr",
          "output_type": "stream",
          "text": [
            "1687167it [04:45, 5906.12it/s]\n",
            "1687167it [12:08, 2314.94it/s]\n",
            "1687167it [12:08, 2315.97it/s]\n",
            "1687167it [12:01, 2337.93it/s]\n",
            "1687167it [12:00, 2342.36it/s]\n",
            "1687167it [12:02, 2336.10it/s]\n"
          ]
        }
      ],
      "source": [
        "from gensim.models import Word2Vec\n",
        "\n",
        "# initialize model\n",
        "model = Word2Vec(sentences=corpus, vector_size=100, window=5, min_count=1, workers=4, epochs=5)\n",
        "\n",
        "model.save(\"word2vec.model\")"
      ]
    },
    {
      "cell_type": "code",
      "execution_count": 2,
      "metadata": {},
      "outputs": [],
      "source": [
        "# load model\n",
        "from gensim.models import Word2Vec\n",
        "\n",
        "# model = Word2Vec.load(\"word2vec.model\")\n",
        "model = Word2Vec.load('checkpoint/trained_question/word2vec.model')"
      ]
    },
    {
      "cell_type": "code",
      "execution_count": 10,
      "metadata": {},
      "outputs": [
        {
          "name": "stderr",
          "output_type": "stream",
          "text": [
            "0it [00:00, ?it/s]"
          ]
        },
        {
          "name": "stderr",
          "output_type": "stream",
          "text": [
            "1124826it [05:16, 3550.60it/s]\n",
            "1124826it [05:13, 3591.03it/s]\n",
            "1124826it [05:13, 3587.14it/s]\n",
            "1124826it [05:15, 3561.73it/s]\n",
            "1124826it [05:17, 3538.90it/s]\n"
          ]
        }
      ],
      "source": [
        "# train model\n",
        "model.train(corpus, total_examples=model.corpus_count, epochs=5)\n",
        "\n",
        "model.save(\"word2vec.model\")"
      ]
    },
    {
      "cell_type": "code",
      "execution_count": 6,
      "metadata": {
        "id": "qWiQF70izxP7"
      },
      "outputs": [],
      "source": [
        "data = pd.read_csv(\"questions-words.csv\")"
      ]
    },
    {
      "cell_type": "code",
      "execution_count": 7,
      "metadata": {},
      "outputs": [
        {
          "name": "stderr",
          "output_type": "stream",
          "text": [
            "100%|██████████| 19544/19544 [00:00<00:00, 123696.21it/s]\n"
          ]
        }
      ],
      "source": [
        "# collect questions-words data\n",
        "abc_words = []\n",
        "\n",
        "for analogy in tqdm(data['Question']):\n",
        "    for word in analogy.split(' ')[:-1]:\n",
        "        abc_words.append([word]) # only add A, B, C into list, prevent from leaking answer"
      ]
    },
    {
      "cell_type": "code",
      "execution_count": 8,
      "metadata": {},
      "outputs": [],
      "source": [
        "# build up new vocab and train\n",
        "model.build_vocab(abc_words, update=True)\n",
        "\n",
        "model.train(abc_words, total_examples=len(abc_words), epochs=5)\n",
        "\n",
        "model.save(\"word2vec.model\")"
      ]
    },
    {
      "cell_type": "code",
      "execution_count": 9,
      "metadata": {
        "id": "q6xpqgdIy5x1"
      },
      "outputs": [
        {
          "name": "stderr",
          "output_type": "stream",
          "text": [
            "100%|██████████| 19544/19544 [59:23<00:00,  5.48it/s] \n"
          ]
        }
      ],
      "source": [
        "# Do predictions and preserve the gold answers (word_D)\n",
        "preds = []\n",
        "golds = []\n",
        "\n",
        "for analogy in tqdm(data[\"Question\"]):\n",
        "      # TODO6: Write your code here to use your trained word embeddings for getting predictions of the analogy task.\n",
        "      # You should also preserve the gold answers during iterations for evaluations later.\n",
        "      \"\"\" Hints\n",
        "      # Unpack the analogy (e.g., \"man\", \"woman\", \"king\", \"queen\")\n",
        "      # Perform vector arithmetic: word_b + word_c - word_a should be close to word_d\n",
        "      # Source: https://github.com/piskvorky/gensim/blob/develop/gensim/models/keyedvectors.py#L776\n",
        "      # Mikolov et al., 2013: big - biggest and small - smallest\n",
        "      # Mikolov et al., 2013: X = vector(”biggest”) − vector(”big”) + vector(”small”).\n",
        "      \"\"\"\n",
        "      A, B, C, D = analogy.split(' ')\n",
        "      output = model.wv.most_similar(positive=[B.lower(), C.lower()], negative=[A.lower()], topn=1)\n",
        "      if(D[0].isupper()): pred = output[0][0].capitalize()\n",
        "      else: pred = output[0][0]\n",
        "      preds.append(pred)\n",
        "      golds.append(D)"
      ]
    },
    {
      "cell_type": "code",
      "execution_count": 10,
      "metadata": {},
      "outputs": [
        {
          "name": "stdout",
          "output_type": "stream",
          "text": [
            "Category: semeantic, Accuracy: 66.39981959634682%\n",
            "Category: syntatic, Accuracy: 54.285714285714285%\n",
            "Sub-Category: capital-common-countries, Accuracy: 82.21343873517787%\n",
            "Sub-Category: capital-world, Accuracy: 79.28824049513705%\n",
            "Sub-Category: currency, Accuracy: 14.203233256351039%\n",
            "Sub-Category: city-in-state, Accuracy: 53.58735306039725%\n",
            "Sub-Category: family, Accuracy: 87.15415019762845%\n",
            "Sub-Category: gram1-adjective-to-adverb, Accuracy: 23.18548387096774%\n",
            "Sub-Category: gram2-opposite, Accuracy: 19.82758620689655%\n",
            "Sub-Category: gram3-comparative, Accuracy: 73.49849849849849%\n",
            "Sub-Category: gram4-superlative, Accuracy: 42.33511586452763%\n",
            "Sub-Category: gram5-present-participle, Accuracy: 47.253787878787875%\n",
            "Sub-Category: gram6-nationality-adjective, Accuracy: 85.30331457160726%\n",
            "Sub-Category: gram7-past-tense, Accuracy: 49.80769230769231%\n",
            "Sub-Category: gram8-plural, Accuracy: 63.36336336336337%\n",
            "Sub-Category: gram9-plural-verbs, Accuracy: 53.5632183908046%\n"
          ]
        }
      ],
      "source": [
        "# Perform evaluations. You do not need to modify this block!!\n",
        "\n",
        "def calculate_accuracy(gold: np.ndarray, pred: np.ndarray) -> float:\n",
        "    return np.mean(gold == pred)\n",
        "\n",
        "golds_np, preds_np = np.array(golds), np.array(preds)\n",
        "data = pd.read_csv(\"questions-words.csv\")\n",
        "\n",
        "# Evaluation: categories\n",
        "for category in data[\"Category\"].unique():\n",
        "    mask = data[\"Category\"] == category\n",
        "    golds_cat, preds_cat = golds_np[mask], preds_np[mask]\n",
        "    acc_cat = calculate_accuracy(golds_cat, preds_cat)\n",
        "    print(f\"Category: {category}, Accuracy: {acc_cat * 100}%\")\n",
        "\n",
        "# Evaluation: sub-categories\n",
        "for sub_category in data[\"SubCategory\"].unique():\n",
        "    mask = data[\"SubCategory\"] == sub_category\n",
        "    golds_subcat, preds_subcat = golds_np[mask], preds_np[mask]\n",
        "    acc_subcat = calculate_accuracy(golds_subcat, preds_subcat)\n",
        "    print(f\"Sub-Category{sub_category}, Accuracy: {acc_subcat * 100}%\")"
      ]
    },
    {
      "cell_type": "code",
      "execution_count": 11,
      "metadata": {},
      "outputs": [
        {
          "name": "stderr",
          "output_type": "stream",
          "text": [
            "100%|██████████| 506/506 [00:00<00:00, 299847.11it/s]"
          ]
        },
        {
          "name": "stdout",
          "output_type": "stream",
          "text": [
            "(46, 100)\n"
          ]
        },
        {
          "name": "stderr",
          "output_type": "stream",
          "text": [
            "\n"
          ]
        }
      ],
      "source": [
        "filtered_data = data[data['SubCategory'].str.contains('family', case=False)]\n",
        "unique_word = []\n",
        "\n",
        "for analogy in tqdm(filtered_data['Question']):\n",
        "    words = analogy.split(' ')\n",
        "    for word in words:\n",
        "        if(word not in unique_word):\n",
        "            unique_word.append(word)\n",
        "            \n",
        "vectors = []\n",
        "for word in unique_word:\n",
        "    vectors.append(model.wv[word])\n",
        "\n",
        "vectors = np.array(vectors)\n",
        "print(vectors.shape)"
      ]
    },
    {
      "cell_type": "code",
      "execution_count": 16,
      "metadata": {
        "id": "AjZ14dQL0mhf"
      },
      "outputs": [
        {
          "name": "stderr",
          "output_type": "stream",
          "text": [
            "100%|██████████| 506/506 [00:00<00:00, 337411.42it/s]\n"
          ]
        },
        {
          "data": {
            "image/png": "[encoded data removed]",
            "text/plain": [
              "<Figure size 1000x600 with 1 Axes>"
            ]
          },
          "metadata": {},
          "output_type": "display_data"
        }
      ],
      "source": [
        "from sklearn.manifold import TSNE\n",
        "import matplotlib.pyplot as plt\n",
        "\n",
        "# Collect words from Google Analogy dataset\n",
        "SUB_CATEGORY = \": family\"\n",
        "\n",
        "# TODO7: Plot t-SNE for the words in the SUB_CATEGORY `: family`\n",
        "tsne = TSNE(n_components=2)\n",
        "\n",
        "filtered_data = data[data['SubCategory'].str.contains('family', case=False)]\n",
        "unique_word = []\n",
        "\n",
        "for analogy in tqdm(filtered_data['Question']):\n",
        "    words = analogy.split(' ')\n",
        "    for word in words:\n",
        "        if(word not in unique_word):\n",
        "            unique_word.append(word)\n",
        "\n",
        "vectors = []\n",
        "for word in unique_word:\n",
        "    vectors.append(model.wv[word])\n",
        "    \n",
        "vectors = np.array(vectors)\n",
        "reduce_vectors= tsne.fit_transform(vectors)\n",
        "\n",
        "# The following code refers to GPT\n",
        "plt.figure(figsize=(10, 6))\n",
        "plt.title(\"Word Relationships from Google Analogy Task\")\n",
        "\n",
        "for word, vector in zip(unique_word, reduce_vectors):\n",
        "    x, y = vector\n",
        "    plt.scatter(x, y, c='b', s=3)\n",
        "    plt.annotate(word, (x+0.01, y+0.01), fontsize=6)\n",
        "\n",
        "plt.savefig(\"word_relationships_selftrained.png\", bbox_inches=\"tight\")\n",
        "plt.show()"
      ]
    },
    {
      "cell_type": "code",
      "execution_count": 18,
      "metadata": {},
      "outputs": [],
      "source": [
        "temp_model = Word2Vec.load('checkpoint/origin/word2vec.model')"
      ]
    },
    {
      "cell_type": "code",
      "execution_count": 19,
      "metadata": {},
      "outputs": [
        {
          "name": "stdout",
          "output_type": "stream",
          "text": [
            "[ 4.0784354e+00 -7.1114135e+00  6.6136289e-01  2.8553247e+00\n",
            " -2.5747585e+00 -2.6305008e+00 -1.7492017e+00 -5.4826126e+00\n",
            "  5.8150640e+00  6.8301573e+00  7.4546421e-01 -3.2576599e+00\n",
            " -5.3610640e+00 -4.2717547e+00  1.0694120e+00  2.3353083e+00\n",
            "  1.8049740e+00  3.1798344e+00  1.6640697e+00 -1.6734527e+00\n",
            " -3.3374791e+00  2.7111821e+00 -5.3308468e+00 -3.1068525e+00\n",
            " -2.3926282e+00  4.7047347e-01 -4.6044436e+00  2.5537210e+00\n",
            " -7.8520334e-01  2.9438953e+00  3.3269229e+00 -4.4900203e+00\n",
            " -1.2896779e+00 -4.7816806e+00  2.4436674e+00  1.0638313e+01\n",
            "  2.8781304e+00  5.1077666e+00 -3.2129354e+00 -8.8215866e+00\n",
            " -5.4371786e-01  5.2065563e-01 -7.5863302e-03 -2.0236804e+00\n",
            "  1.4926555e+00  6.3195987e+00 -1.7342604e+00 -5.8158498e+00\n",
            " -6.4694369e-01 -4.1895833e+00  3.8218870e+00  1.9506197e+00\n",
            "  1.8083389e+00  2.0992470e+00  9.5253581e-01 -1.7120984e+00\n",
            "  2.3873940e+00  7.4796963e-01  3.1670809e+00  4.5107585e-01\n",
            "  7.1431894e+00 -2.5962477e+00 -1.6917393e+00  6.7577453e+00\n",
            "  6.8420138e+00  9.2656794e+00 -7.9684782e-01  9.9433649e-01\n",
            "  4.5627642e+00  1.5502763e-01 -3.0990622e+00 -6.1465716e-01\n",
            "  4.8948503e-01 -5.0834174e+00 -7.4511533e+00 -1.3436378e+00\n",
            " -5.1337910e-01  4.7113962e+00  3.4958563e+00 -2.7767706e+00\n",
            "  3.9853938e+00 -4.2792549e+00  1.4225550e+00 -1.8716308e+00\n",
            "  3.9601455e+00 -2.5688004e-01  2.0594268e+00 -1.1550224e-01\n",
            "  2.9199123e-03 -2.4527569e+00 -5.3885813e+00 -3.7303171e+00\n",
            "  2.7531896e+00  3.2766862e+00  3.7330422e+00  6.6010847e+00\n",
            "  5.0776014e+00 -1.5243486e+00 -7.7440584e-01 -2.4494348e+00]\n"
          ]
        }
      ],
      "source": [
        "distance = temp_model.wv['brother'] - model.wv['brother']\n",
        "print(distance)"
      ]
    }
  ],
  "metadata": {
    "colab": {
      "provenance": []
    },
    "kernelspec": {
      "display_name": "Python 3",
      "name": "python3"
    },
    "language_info": {
      "codemirror_mode": {
        "name": "ipython",
        "version": 3
      },
      "file_extension": ".py",
      "mimetype": "text/x-python",
      "name": "python",
      "nbconvert_exporter": "python",
      "pygments_lexer": "ipython3",
      "version": "3.10.14"
    }
  },
  "nbformat": 4,
  "nbformat_minor": 0
}
