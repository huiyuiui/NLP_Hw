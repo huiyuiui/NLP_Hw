{
  "cells": [
    {
      "cell_type": "markdown",
      "metadata": {
        "id": "p6yklm2xWn9f"
      },
      "source": [
        "## Part I: Data Pre-processing"
      ]
    },
    {
      "cell_type": "code",
      "execution_count": 6,
      "metadata": {
        "id": "YycoIJomXwqH"
      },
      "outputs": [],
      "source": [
        "import pandas as pd\n",
        "import numpy as np"
      ]
    },
    {
      "cell_type": "code",
      "execution_count": 50,
      "metadata": {
        "id": "KKAXuhZIUxD8"
      },
      "outputs": [],
      "source": [
        "# Download the Google Analogy dataset\n",
        "# !wget http://download.tensorflow.org/data/questions-words.txt"
      ]
    },
    {
      "cell_type": "code",
      "execution_count": 51,
      "metadata": {
        "id": "xue5pVFLVNQQ"
      },
      "outputs": [],
      "source": [
        "# Preprocess the dataset\n",
        "file_name = \"questions-words\"\n",
        "with open(f\"{file_name}.txt\", \"r\") as f:\n",
        "    data = f.read().splitlines()"
      ]
    },
    {
      "cell_type": "code",
      "execution_count": 52,
      "metadata": {
        "id": "h7dOdJOsZzAF"
      },
      "outputs": [
        {
          "name": "stdout",
          "output_type": "stream",
          "text": [
            ": capital-common-countries\n",
            "Athens Greece Baghdad Iraq\n",
            "Athens Greece Bangkok Thailand\n",
            "Athens Greece Beijing China\n",
            "Athens Greece Berlin Germany\n",
            "Athens Greece Bern Switzerland\n",
            "Athens Greece Cairo Egypt\n",
            "Athens Greece Canberra Australia\n",
            "Athens Greece Hanoi Vietnam\n",
            "Athens Greece Havana Cuba\n"
          ]
        }
      ],
      "source": [
        "# check data from the first 10 entries\n",
        "for entry in data[:10]:\n",
        "    print(entry)"
      ]
    },
    {
      "cell_type": "code",
      "execution_count": 53,
      "metadata": {
        "id": "wmYQ0IWZZxf3"
      },
      "outputs": [],
      "source": [
        "# TODO1: Write your code here for processing data to pd.DataFrame\n",
        "# Please note that the first five mentions of \": \" indicate `semantic`,\n",
        "# and the remaining nine belong to the `syntatic` category.\n",
        "questions = []\n",
        "categories = []\n",
        "sub_categories = []\n",
        "now_categories = \"semeantic\"\n",
        "now_sub_categories = \"\"\n",
        "count = 0\n",
        "for line in data:\n",
        "    if(\":\" in line):\n",
        "        count += 1\n",
        "        now_sub_categories = line\n",
        "        if(count >= 6):\n",
        "            now_categories = 'syntatic'\n",
        "        continue\n",
        "    else:\n",
        "        questions.append(line)\n",
        "        categories.append(now_categories)\n",
        "        sub_categories.append(now_sub_categories)\n"
      ]
    },
    {
      "cell_type": "code",
      "execution_count": 54,
      "metadata": {
        "id": "_bKA05rVZb_i"
      },
      "outputs": [],
      "source": [
        "# Create the dataframe\n",
        "df = pd.DataFrame(\n",
        "    {\n",
        "        \"Question\": questions,\n",
        "        \"Category\": categories,\n",
        "        \"SubCategory\": sub_categories,\n",
        "    }\n",
        ")"
      ]
    },
    {
      "cell_type": "code",
      "execution_count": 55,
      "metadata": {
        "id": "UN2FBcicZmpV"
      },
      "outputs": [
        {
          "data": {
            "text/html": [
              "<div>\n",
              "<style scoped>\n",
              "    .dataframe tbody tr th:only-of-type {\n",
              "        vertical-align: middle;\n",
              "    }\n",
              "\n",
              "    .dataframe tbody tr th {\n",
              "        vertical-align: top;\n",
              "    }\n",
              "\n",
              "    .dataframe thead th {\n",
              "        text-align: right;\n",
              "    }\n",
              "</style>\n",
              "<table border=\"1\" class=\"dataframe\">\n",
              "  <thead>\n",
              "    <tr style=\"text-align: right;\">\n",
              "      <th></th>\n",
              "      <th>Question</th>\n",
              "      <th>Category</th>\n",
              "      <th>SubCategory</th>\n",
              "    </tr>\n",
              "  </thead>\n",
              "  <tbody>\n",
              "    <tr>\n",
              "      <th>0</th>\n",
              "      <td>Athens Greece Baghdad Iraq</td>\n",
              "      <td>semeantic</td>\n",
              "      <td>: capital-common-countries</td>\n",
              "    </tr>\n",
              "    <tr>\n",
              "      <th>1</th>\n",
              "      <td>Athens Greece Bangkok Thailand</td>\n",
              "      <td>semeantic</td>\n",
              "      <td>: capital-common-countries</td>\n",
              "    </tr>\n",
              "    <tr>\n",
              "      <th>2</th>\n",
              "      <td>Athens Greece Beijing China</td>\n",
              "      <td>semeantic</td>\n",
              "      <td>: capital-common-countries</td>\n",
              "    </tr>\n",
              "    <tr>\n",
              "      <th>3</th>\n",
              "      <td>Athens Greece Berlin Germany</td>\n",
              "      <td>semeantic</td>\n",
              "      <td>: capital-common-countries</td>\n",
              "    </tr>\n",
              "    <tr>\n",
              "      <th>4</th>\n",
              "      <td>Athens Greece Bern Switzerland</td>\n",
              "      <td>semeantic</td>\n",
              "      <td>: capital-common-countries</td>\n",
              "    </tr>\n",
              "  </tbody>\n",
              "</table>\n",
              "</div>"
            ],
            "text/plain": [
              "                         Question   Category                 SubCategory\n",
              "0      Athens Greece Baghdad Iraq  semeantic  : capital-common-countries\n",
              "1  Athens Greece Bangkok Thailand  semeantic  : capital-common-countries\n",
              "2     Athens Greece Beijing China  semeantic  : capital-common-countries\n",
              "3    Athens Greece Berlin Germany  semeantic  : capital-common-countries\n",
              "4  Athens Greece Bern Switzerland  semeantic  : capital-common-countries"
            ]
          },
          "execution_count": 55,
          "metadata": {},
          "output_type": "execute_result"
        }
      ],
      "source": [
        "df.head()"
      ]
    },
    {
      "cell_type": "code",
      "execution_count": 56,
      "metadata": {
        "id": "nMGvoDeiZhbp"
      },
      "outputs": [],
      "source": [
        "df.to_csv(f\"{file_name}.csv\", index=False)"
      ]
    },
    {
      "cell_type": "markdown",
      "metadata": {
        "id": "Zi2SNNuHWiZO"
      },
      "source": [
        "## Part II: Use pre-trained word embeddings\n",
        "- After finish Part I, you can run Part II code blocks only."
      ]
    },
    {
      "cell_type": "code",
      "execution_count": 7,
      "metadata": {
        "id": "yB4rpJymXiSN"
      },
      "outputs": [],
      "source": [
        "import pandas as pd\n",
        "import numpy as np\n",
        "import gensim.downloader\n",
        "from tqdm import tqdm\n",
        "import matplotlib.pyplot as plt\n",
        "from sklearn.manifold import TSNE"
      ]
    },
    {
      "cell_type": "code",
      "execution_count": 57,
      "metadata": {
        "id": "-pGLoyKSHXuQ"
      },
      "outputs": [],
      "source": [
        "data = pd.read_csv(\"questions-words.csv\")"
      ]
    },
    {
      "cell_type": "code",
      "execution_count": 11,
      "metadata": {
        "id": "YWa_1hF3aZHO"
      },
      "outputs": [
        {
          "name": "stdout",
          "output_type": "stream",
          "text": [
            "[==================================================] 100.0% 128.1/128.1MB downloaded\n",
            "The Gensim model loaded successfully!\n"
          ]
        }
      ],
      "source": [
        "MODEL_NAME = \"glove-wiki-gigaword-100\"\n",
        "# You can try other models.\n",
        "# https://radimrehurek.com/gensim/models/word2vec.html#pretrained-models\n",
        "\n",
        "# Load the pre-trained model (using GloVe vectors here)\n",
        "model = gensim.downloader.load(MODEL_NAME)\n",
        "print(\"The Gensim model loaded successfully!\")"
      ]
    },
    {
      "cell_type": "code",
      "execution_count": 26,
      "metadata": {
        "id": "YTsqJcP1WSTH"
      },
      "outputs": [
        {
          "name": "stderr",
          "output_type": "stream",
          "text": [
            "100%|██████████| 19544/19544 [04:13<00:00, 77.22it/s]\n"
          ]
        }
      ],
      "source": [
        "# Do predictions and preserve the gold answers (word_D)\n",
        "preds = []\n",
        "golds = []\n",
        "\n",
        "for analogy in tqdm(data[\"Question\"]):\n",
        "      # TODO2: Write your code here to use pre-trained word embeddings for getting predictions of the analogy task.\n",
        "      # You should also preserve the gold answers during iterations for evaluations later.\n",
        "      \"\"\" Hints\n",
        "      # Unpack the analogy (e.g., \"man\", \"woman\", \"king\", \"queen\")\n",
        "      # Perform vector arithmetic: word_b + word_c - word_a should be close to word_d\n",
        "      # Source: https://github.com/piskvorky/gensim/blob/develop/gensim/models/keyedvectors.py#L776\n",
        "      # Mikolov et al., 2013: big - biggest and small - smallest\n",
        "      # Mikolov et al., 2013: X = vector(”biggest”) − vector(”big”) + vector(”small”).\n",
        "      \"\"\"\n",
        "      A, B, C, D = analogy.split(' ')\n",
        "      output = model.most_similar(positive=[B.lower(), C.lower()], negative=[A.lower()], topn=1)\n",
        "      if(D[0].isupper()): pred = output[0][0].capitalize()\n",
        "      else: pred = output[0][0]\n",
        "      preds.append(pred)\n",
        "      golds.append(D)"
      ]
    },
    {
      "cell_type": "code",
      "execution_count": 27,
      "metadata": {
        "id": "xG7vcPXAW6uT"
      },
      "outputs": [
        {
          "name": "stdout",
          "output_type": "stream",
          "text": [
            "Category: semeantic, Accuracy: 65.3399481339497%\n",
            "Category: syntatic, Accuracy: 61.255269320843084%\n",
            "Sub-Category: capital-common-countries, Accuracy: 93.87351778656127%\n",
            "Sub-Category: capital-world, Accuracy: 88.94783377541998%\n",
            "Sub-Category: currency, Accuracy: 14.203233256351039%\n",
            "Sub-Category: city-in-state, Accuracy: 30.806647750304013%\n",
            "Sub-Category: family, Accuracy: 81.62055335968378%\n",
            "Sub-Category: gram1-adjective-to-adverb, Accuracy: 24.39516129032258%\n",
            "Sub-Category: gram2-opposite, Accuracy: 20.073891625615765%\n",
            "Sub-Category: gram3-comparative, Accuracy: 79.12912912912913%\n",
            "Sub-Category: gram4-superlative, Accuracy: 54.278074866310156%\n",
            "Sub-Category: gram5-present-participle, Accuracy: 69.50757575757575%\n",
            "Sub-Category: gram6-nationality-adjective, Accuracy: 87.86741713570981%\n",
            "Sub-Category: gram7-past-tense, Accuracy: 55.44871794871795%\n",
            "Sub-Category: gram8-plural, Accuracy: 71.996996996997%\n",
            "Sub-Category: gram9-plural-verbs, Accuracy: 58.39080459770115%\n"
          ]
        }
      ],
      "source": [
        "# Perform evaluations. You do not need to modify this block!!\n",
        "\n",
        "def calculate_accuracy(gold: np.ndarray, pred: np.ndarray) -> float:\n",
        "    return np.mean(gold == pred)\n",
        "\n",
        "golds_np, preds_np = np.array(golds), np.array(preds)\n",
        "data = pd.read_csv(\"questions-words.csv\")\n",
        "\n",
        "# Evaluation: categories\n",
        "for category in data[\"Category\"].unique():\n",
        "    mask = data[\"Category\"] == category\n",
        "    golds_cat, preds_cat = golds_np[mask], preds_np[mask]\n",
        "    acc_cat = calculate_accuracy(golds_cat, preds_cat)\n",
        "    print(f\"Category: {category}, Accuracy: {acc_cat * 100}%\")\n",
        "\n",
        "# Evaluation: sub-categories\n",
        "for sub_category in data[\"SubCategory\"].unique():\n",
        "    mask = data[\"SubCategory\"] == sub_category\n",
        "    golds_subcat, preds_subcat = golds_np[mask], preds_np[mask]\n",
        "    acc_subcat = calculate_accuracy(golds_subcat, preds_subcat)\n",
        "    print(f\"Sub-Category{sub_category}, Accuracy: {acc_subcat * 100}%\")"
      ]
    },
    {
      "cell_type": "code",
      "execution_count": 64,
      "metadata": {},
      "outputs": [
        {
          "name": "stderr",
          "output_type": "stream",
          "text": [
            "100%|██████████| 506/506 [00:00<00:00, 506882.69it/s]"
          ]
        },
        {
          "name": "stdout",
          "output_type": "stream",
          "text": [
            "(46, 100)\n"
          ]
        },
        {
          "name": "stderr",
          "output_type": "stream",
          "text": [
            "\n"
          ]
        }
      ],
      "source": [
        "filtered_data = data[data['SubCategory'].str.contains('family', case=False)]\n",
        "unique_word = []\n",
        "\n",
        "for analogy in tqdm(filtered_data['Question']):\n",
        "    words = analogy.split(' ')\n",
        "    for word in words:\n",
        "        if(word not in unique_word):\n",
        "            unique_word.append(word)\n",
        "            \n",
        "vectors = []\n",
        "for word in unique_word:\n",
        "    vectors.append(model[word])\n",
        "\n",
        "vectors = np.array(vectors)\n",
        "print(vectors.shape)"
      ]
    },
    {
      "cell_type": "code",
      "execution_count": 71,
      "metadata": {
        "id": "7_z6CybBXKZu"
      },
      "outputs": [
        {
          "name": "stderr",
          "output_type": "stream",
          "text": [
            "100%|██████████| 506/506 [00:00<00:00, 505916.05it/s]"
          ]
        },
        {
          "name": "stderr",
          "output_type": "stream",
          "text": [
            "\n"
          ]
        },
        {
          "data": {
            "image/png": "[encoded data removed]",
            "text/plain": [
              "<Figure size 1000x600 with 1 Axes>"
            ]
          },
          "metadata": {},
          "output_type": "display_data"
        }
      ],
      "source": [
        "# Collect words from Google Analogy dataset\n",
        "SUB_CATEGORY = \": family\"\n",
        "\n",
        "# TODO3: Plot t-SNE for the words in the SUB_CATEGORY `: family`\n",
        "tsne = TSNE(n_components=2)\n",
        "\n",
        "filtered_data = data[data['SubCategory'].str.contains('family', case=False)]\n",
        "unique_word = []\n",
        "\n",
        "for analogy in tqdm(filtered_data['Question']):\n",
        "    words = analogy.split(' ')\n",
        "    for word in words:\n",
        "        if(word not in unique_word):\n",
        "            unique_word.append(word)\n",
        "\n",
        "vectors = []\n",
        "for word in unique_word:\n",
        "    vectors.append(model[word])\n",
        "    \n",
        "vectors = np.array(vectors)\n",
        "reduce_vectors= tsne.fit_transform(vectors)\n",
        "\n",
        "# The following code refers to GPT\n",
        "plt.figure(figsize=(10, 6))\n",
        "plt.title(\"Word Relationships from Google Analogy Task\")\n",
        "\n",
        "for word, vector in zip(unique_word, reduce_vectors):\n",
        "    x, y = vector\n",
        "    plt.scatter(x, y, c='b', s=3)\n",
        "    plt.annotate(word, (x+0.01, y+0.01), fontsize=6)\n",
        "\n",
        "plt.savefig(\"word_relationships.png\", bbox_inches=\"tight\")\n",
        "plt.show()"
      ]
    },
    {
      "cell_type": "markdown",
      "metadata": {
        "id": "DKRPJxgKXH4j"
      },
      "source": [
        "### Part III: Train your own word embeddings"
      ]
    },
    {
      "cell_type": "markdown",
      "metadata": {
        "id": "VC_0fE1UzL8T"
      },
      "source": [
        "### Get the latest English Wikipedia articles and do sampling.\n",
        "- Usually, we start from Wikipedia dump (https://dumps.wikimedia.org/enwiki/latest/enwiki-latest-pages-articles.xml.bz2). However, the downloading step will take very long. Also, the cleaning step for the Wikipedia corpus ([`gensim.corpora.wikicorpus.WikiCorpus`](https://radimrehurek.com/gensim/corpora/wikicorpus.html#gensim.corpora.wikicorpus.WikiCorpus)) will take much time. Therefore, we provide cleaned files for you."
      ]
    },
    {
      "cell_type": "code",
      "execution_count": null,
      "metadata": {
        "id": "FkubArwCCYxR"
      },
      "outputs": [],
      "source": [
        "# Download the split Wikipedia files\n",
        "# Each file contain 562365 lines (articles).\n",
        "# !gdown --id 1jiu9E1NalT2Y8EIuWNa1xf2Tw1f1XuGd -O wiki_texts_part_0.txt.gz\n",
        "# !gdown --id 1ABblLRd9HXdXvaNv8H9fFq984bhnowoG -O wiki_texts_part_1.txt.gz\n",
        "# !gdown --id 1z2VFNhpPvCejTP5zyejzKj5YjI_Bn42M -O wiki_texts_part_2.txt.gz\n",
        "# !gdown --id 1VKjded9BxADRhIoCzXy_W8uzVOTWIf0g -O wiki_texts_part_3.txt.gz\n",
        "# !gdown --id 16mBeG26m9LzHXdPe8UrijUIc6sHxhknz -O wiki_texts_part_4.txt.gz"
      ]
    },
    {
      "cell_type": "code",
      "execution_count": null,
      "metadata": {
        "id": "8S3ibNT3C8Xk"
      },
      "outputs": [],
      "source": [
        "# Download the split Wikipedia files\n",
        "# Each file contain 562365 lines (articles), except the last file.\n",
        "# !gdown --id 17JFvxOH-kc-VmvGkhG7p3iSZSpsWdgJI -O wiki_texts_part_5.txt.gz\n",
        "# !gdown --id 19IvB2vOJRGlrYulnTXlZECR8zT5v550P -O wiki_texts_part_6.txt.gz\n",
        "# !gdown --id 1sjwO8A2SDOKruv6-8NEq7pEIuQ50ygVV -O wiki_texts_part_7.txt.gz\n",
        "# !gdown --id 1s7xKWJmyk98Jbq6Fi1scrHy7fr_ellUX -O wiki_texts_part_8.txt.gz\n",
        "# !gdown --id 17eQXcrvY1cfpKelLbP2BhQKrljnFNykr -O wiki_texts_part_9.txt.gz\n",
        "# !gdown --id 1J5TAN6bNBiSgTIYiPwzmABvGhAF58h62 -O wiki_texts_part_10.txt.gz"
      ]
    },
    {
      "cell_type": "code",
      "execution_count": null,
      "metadata": {
        "id": "DUg_c79BC7OL"
      },
      "outputs": [],
      "source": [
        "# Extract the downloaded wiki_texts_parts files.\n",
        "# !gunzip -k wiki_texts_part_*.gz"
      ]
    },
    {
      "cell_type": "code",
      "execution_count": null,
      "metadata": {
        "id": "7duk2RbYDB02"
      },
      "outputs": [],
      "source": [
        "# Combine the extracted wiki_texts_parts files.\n",
        "# !cat wiki_texts_part_*.txt > wiki_texts_combined.txt"
      ]
    },
    {
      "cell_type": "code",
      "execution_count": null,
      "metadata": {
        "id": "givLH7NrDs6X"
      },
      "outputs": [],
      "source": [
        "# Check the first ten lines of the combined file\n",
        "# !head -n 10 wiki_texts_combined.txt"
      ]
    },
    {
      "cell_type": "markdown",
      "metadata": {
        "id": "Hfwx92QCEhrq"
      },
      "source": [
        "Please note that we used the default parameters of [`gensim.corpora.wikicorpus.WikiCorpus`](https://radimrehurek.com/gensim/corpora/wikicorpus.html#gensim.corpora.wikicorpus.WikiCorpus) for cleaning the Wiki raw file. Thus, words with one character were discarded."
      ]
    },
    {
      "cell_type": "code",
      "execution_count": 13,
      "metadata": {
        "id": "vUAzButoP03w"
      },
      "outputs": [],
      "source": [
        "# Now you need to do sampling because the corpus is too big.\n",
        "# You can further perform analysis with a greater sampling ratio.\n",
        "\n",
        "import random\n",
        "\n",
        "wiki_txt_path = \"wiki_texts_combined.txt\"\n",
        "output_path = 'wiki_texts_sample.txt'\n",
        "# wiki_texts_combined.txt is a text file separated by linebreaks (\\n).\n",
        "# Each row in wiki_texts_combined.txt indicates a Wikipedia article.\n",
        "\n",
        "with open(wiki_txt_path, \"r\", encoding=\"utf-8\") as f:\n",
        "    with open(output_path, \"w\", encoding=\"utf-8\") as output_file:\n",
        "    # TODO4: Sample `20%` Wikipedia articles\n",
        "    # Write your code here\n",
        "        for line in f:\n",
        "            if random.random() <= 0.2:\n",
        "                output_file.write(line)"
      ]
    },
    {
      "cell_type": "code",
      "execution_count": 3,
      "metadata": {},
      "outputs": [],
      "source": [
        "import pandas as pd\n",
        "import numpy as np\n",
        "from tqdm import tqdm\n",
        "import matplotlib.pyplot as plt\n",
        "from sklearn.manifold import TSNE"
      ]
    },
    {
      "cell_type": "code",
      "execution_count": 2,
      "metadata": {},
      "outputs": [
        {
          "name": "stdout",
          "output_type": "stream",
          "text": [
            "Total sampled lines: 1124826\n"
          ]
        }
      ],
      "source": [
        "# load saved sampled_txt\n",
        "\n",
        "# wiki_sampled_txt_path = 'wiki_texts_sample.txt'\n",
        "\n",
        "# with open(wiki_sampled_txt_path, 'r', encoding='utf-8') as file:\n",
        "#     sampled_data = file.readlines()\n",
        "    \n",
        "# print(\"Total sampled lines:\", len(sampled_data))"
      ]
    },
    {
      "cell_type": "code",
      "execution_count": 2,
      "metadata": {
        "id": "G7q1Xzunxkdc"
      },
      "outputs": [
        {
          "name": "stderr",
          "output_type": "stream",
          "text": [
            "1124826it [02:42, 6921.78it/s]\n"
          ]
        }
      ],
      "source": [
        "# TODO5: Train your own word embeddings with the sampled articles\n",
        "# https://radimrehurek.com/gensim/models/word2vec.html#gensim.models.word2vec.Word2Vec\n",
        "# Hint: You should perform some pre-processing before training.\n",
        "from gensim.parsing.preprocessing import remove_stopwords, preprocess_string\n",
        "from gensim.parsing.preprocessing import stem_text, strip_numeric\n",
        "\n",
        "wiki_sampled_txt_path = 'wiki_texts_sample.txt'\n",
        "wiki_preprocess_path = 'wiki_texts_processed.txt'\n",
        "\n",
        "processed_data = []\n",
        "filters = [remove_stopwords]\n",
        "\n",
        "with open(wiki_sampled_txt_path, 'r', encoding='utf-8') as file:\n",
        "    with open(wiki_preprocess_path, \"w\", encoding=\"utf-8\") as output_file:\n",
        "        for line in tqdm(file):\n",
        "            processed_line = preprocess_string(line, filters)\n",
        "            # processed_data.append(processed_line)\n",
        "            output_file.write(' '.join(processed_line) + '\\n')"
      ]
    },
    {
      "cell_type": "code",
      "execution_count": 1,
      "metadata": {},
      "outputs": [
        {
          "name": "stdout",
          "output_type": "stream",
          "text": [
            "anarchism political philosophy movement forms authority seeks abolish institutions claims maintain unnecessary coercion hierarchy typically including state capitalism anarchism advocates replacement state stateless societies voluntary free associations historically left wing movement reading anarchism placed farthest left political spectrum usually described libertarian wing socialist movement libertarian socialism traces anarchist ideas history modern anarchism emerged enlightenment half th decades th century anarchist movement flourished parts world significant role workers struggles emancipation anarchist schools thought formed period anarchists taken revolutions notably paris commune russian civil war spanish civil war end marked end classical era anarchism decades th st century anarchist movement resurgent growing popularity influence anti capitalist anti war anti globalisation movements anarchists employ diverse approaches generally divided revolutionary evolutionary strategies significant overlap evolutionary methods try simulate anarchist society like revolutionary tactics historically taken violent turn aim overthrow authority state facets human civilization influenced anarchist theory critique praxis etymology terminology definition wilhelm weitling example writer added anarchist theory exact term etymological origin anarchism ancient greek anarkhia ἀναρχία meaning ruler composed prefix word arkhos leader ruler suffix ism denotes ideological current favours anarchy anarchism appears english anarchisme anarchy early english usages emphasised sense disorder factions french revolution labelled opponents anarchists accused shared views later anarchists revolutionaries th century william godwin wilhelm weitling contribute anarchist doctrines generation use anarchist anarchism describing beliefs political philosopher anarchist pierre joseph proudhon marking formal birth anarchism mid th century beginning france libertarianism synonym anarchism use synonym common outside united states usages libertarianism refer individualistic free market philosophy free market anarchism particular termed libertarian anarchism term libertarian largely synonymous anarchism meaning recently diluted wider adoption ideologically disparate groups including new left libertarian marxists associate authoritarian socialists vanguard party extreme cultural liberals primarily concerned civil liberties additionally anarchists use libertarian socialist avoid anarchism negative connotations emphasise connections socialism anarchism broadly anti authoritarian wing socialist movement anarchism contrasted socialist forms state oriented scholars anarchism generally highlight anarchism socialist credentials criticise attempts creating dichotomies scholars anarchism having influences liberalism liberal socialist scholars reject anarcho capitalism anarchist principles opposition state central anarchist thought defining anarchism easy task scholars lot discussion scholars anarchists matter currents perceive anarchism slightly differently major definitional elements include non coercive society rejection state apparatus belief human nature allows humans exist progress non coercive society suggestion act pursue ideal anarchy history pre modern era zeno citium republic inspired peter kropotkin notable precursors anarchism ancient world china greece china philosophical anarchism discussion legitimacy state delineated taoist philosophers zhuang zhou laozi alongside stoicism taoism said significant anticipations anarchism anarchic attitudes articulated tragedians philosophers greece aeschylus sophocles myth antigone illustrate conflict laws imposed state personal autonomy socrates questioned athenian authorities constantly insisted right individual freedom conscience cynics dismissed human law nomos associated authorities trying live according nature physis stoics supportive society based unofficial friendly relations citizens presence state medieval europe anarchistic activity ascetic religious movements muslim movements later gave birth religious anarchism sasanian empire mazdak called egalitarian society abolition monarchy soon executed emperor kavad basra religious sects preached state europe sects developed anti state libertarian tendencies renewed antiquity renaissance private judgment reformation restored elements anti authoritarian secularism particularly france enlightenment challenges intellectual authority secular religious revolutions spurred ideological development era classical anarchism modern era french revolution partisan groups enragés saw turning point fermentation anti state federalist sentiments anarchist currents developed th century william godwin espoused philosophical anarchism england morally delegitimising state max stirner thinking paved way individualism pierre joseph proudhon theory mutualism fertile soil france late anarchist schools thought defined wave unprecedented globalisation occurred era classical anarchism lasted end spanish civil war considered golden age anarchism mikhail bakunin opposed marxist aim dictatorship proletariat allied federalists international expulsion marxists drawing mutualism mikhail bakunin founded collectivist anarchism entered international workingmen association class worker union later known international formed unite diverse revolutionary currents international significant political force karl marx leading figure member general council bakunin faction jura federation proudhon followers mutualists opposed state socialism advocating political abstentionism small property holdings bitter disputes bakuninists expelled international marxists hague congress anarchists treated similarly second international ultimately expelled bakunin predicted revolutionaries gained power marx terms end new tyrants workers response expulsion international anarchists formed st imier international influence peter kropotkin russian philosopher scientist anarcho communism overlapped collectivism anarcho communists drew inspiration paris commune advocated free federation distribution goods according needs turn th century anarchism spread world notable feature international syndicalist movement china small groups students imported humanistic pro science version anarcho communism tokyo hotspot rebellious youth east asian countries moved japanese capital study latin america argentina stronghold anarcho syndicalism prominent left wing ideology time minority anarchists adopted tactics revolutionary political violence known propaganda deed dismemberment french socialist movement groups execution exile communards penal colonies following suppression paris commune favoured individualist political expression acts anarchists distanced terrorist acts infamy came movement attempts prevent anarchists immigrating including immigration act called anarchist exclusion act illegalism strategy anarchists adopted period nestor makhno seen members anarchist revolutionary insurgent army ukraine despite concerns anarchists participated russian revolution opposition white movement especially makhnovshchina met harsh suppression bolshevik government stabilised including kronstadt rebellion anarchists petrograd moscow fled ukraine bolsheviks crushed anarchist movement anarchists repressed russia new antithetical currents emerged platformism synthesis anarchism sought create coherent group push revolution resemble political party seeing victories bolsheviks october revolution resulting russian civil war workers activists turned communist parties grew expense anarchism socialist movements france united states members major syndicalist movements general confederation labour industrial workers world left organisations joined communist international spanish civil war anarchists syndicalists cnt fai allied currents leftists long tradition spanish anarchism led anarchists playing pivotal role war particularly spanish revolution response army rebellion anarchist inspired movement peasants workers supported armed militias took control barcelona large areas rural spain collectivised land soviet union provided limited assistance beginning war result bitter fight communists leftists series events known days joseph stalin asserted soviet control republican government ending defeat anarchists hands communists post wwii rojava support efforts workers form cooperatives exemplified sewing cooperative end world war ii anarchist movement severely weakened witnessed revival anarchism likely caused perceived failure marxism leninism tensions built cold war time anarchism presence movements critical capitalism state anti nuclear environmental peace movements counterculture new left saw transition previous revolutionary nature provocative anti capitalist reformism anarchism associated punk subculture exemplified bands crass sex pistols established feminist tendencies anarcha feminism returned vigour second wave feminism black anarchism began form time influenced anarchism eurocentric demographic coincided failure gain traction northern europe unprecedented height latin america turn st century anarchism grew popularity influence anti capitalist anti war anti globalisation movements anarchists known involvement protests world trade organization wto group world economic forum protests ad hoc leaderless anonymous cadres known black blocs engaged rioting property destruction violent confrontations police organisational tactics pioneered time include affinity groups security culture use decentralised technologies internet significant event period confrontations seattle wto conference anarchist ideas influential development zapatistas mexico democratic federation northern syria commonly known rojava facto autonomous region northern syria having revolutionary aspirations forms anarchism confrontational nowadays instead trying build alternative way social organization based mutual interdependence voluntary cooperation scholar carissa honeywell takes example food bombs group collectives highlight features anarchist groups work direct action working solidarity left inform rising rates world hunger suggest policy tackle hunger ranging funding arms industry addressing monsanto seed saving policies patents helping farmers commodification food housing honeywell emphasizes contemporary anarchists interested flourishing humans non humans environment honeywell argues escalation problems continuous wars world poverty current framework solve pressing problems humanity causal factors resulting rejection representative democracy state schools thought anarchist schools thought generally grouped main historical traditions social anarchism individualist anarchism owing different origins values evolution individualist current emphasises negative liberty opposing restraints free individual social current emphasises positive liberty aiming achieve free potential society equality social ownership chronological sense anarchism segmented classical currents late th century post classical currents anarcha feminism green anarchism post anarchism developed specific factions anarchist movements constitute political anarchism lies philosophical anarchism holds state lacks moral legitimacy necessarily accepting imperative revolution eliminate component especially individualist anarchism philosophical anarchism tolerate existence minimal state claims citizens moral obligation obey government conflicts individual autonomy anarchism pays significant attention moral arguments ethics central role anarchist philosophy anarchism emphasis anti capitalism egalitarianism extension community individuality sets apart anarcho capitalism types economic libertarianism anarchism usually placed far left political spectrum economics legal philosophy reflect anti authoritarian anti statist libertarian radical interpretations left wing socialist politics collectivism communism individualism mutualism syndicalism libertarian socialist economic theories anarchism offer fixed body doctrine single particular worldview anarchist types traditions exist varieties anarchy diverge widely reaction sectarianism anarchist milieu anarchism adjectives toleration unity anarchists adopted fernando tarrida del mármol response bitter debates anarchist theory time belief political nihilism espoused anarchists despite separation anarchist schools thought seen distinct entities tendencies intermingle connected set shared principles autonomy mutual aid anti classical pierre joseph proudhon primary proponent mutualism influenced future individualist anarchist social anarchist thinkers inceptive currents classical anarchist currents mutualism individualism followed major currents social anarchism collectivist communist syndicalist differ organisational economic aspects ideal society mutualism th century economic theory developed anarchist theory pierre joseph proudhon aims include abolishing state reciprocity free association voluntary contract federation monetary reform credit currency regulated bank people mutualism retrospectively characterised ideologically situated individualist collectivist forms anarchism property proudhon characterised goal form society synthesis communism property collectivist anarchism revolutionary socialist form anarchism commonly associated mikhail bakunin collectivist anarchists advocate collective ownership means production theorised achieved violent revolution workers paid according time worked goods distributed according need communism collectivist anarchism arose alongside marxism rejected dictatorship proletariat despite stated marxist goal collectivist stateless society anarcho communism theory anarchism advocates communist society common ownership means production held federal network voluntary associations production consumption based guiding principle according ability according need anarcho communism developed radical socialist currents french revolution formulated italian section international later expanded theoretical work peter kropotkin specific style dominating view anarchists late th century anarcho syndicalism branch anarchism views labour syndicates potential force revolutionary social change replacing capitalism state new society democratically self managed workers basic principles anarcho syndicalism direct action workers solidarity workers self management individualist anarchism set traditions thought anarchist movement emphasise individual kinds external determinants early influences individualist forms anarchism include william godwin max stirner henry david thoreau countries individualist anarchism attracted small diverse following bohemian artists intellectuals young anarchist outlaws known illegalism individual reclamation post classical contemporary lawrence jarach left john zerzan right prominent contemporary anarchist authors zerzan prominent voice anarcho primitivism jarach notable advocate post left anarchy anarchist principles undergird contemporary radical social movements left anarchist movement developed alongside momentum anti globalisation movement leading activist networks anarchist orientation movement shaped st century radicalism wider embrace anarchist principles signaled revival anarchism continued generate philosophies movements times eclectic drawing sources combining disparate concepts create new philosophical approaches anti capitalist tradition classical anarchism remained prominent contemporary currents contemporary news coverage emphasizes black bloc demonstrations reinforced anarchism historical association chaos violence publicity led scholars fields anthropology history engage anarchist movement contemporary anarchism favours actions academic theory anarchist groups tendencies schools thought exist today making difficult contemporary anarchist movement theorists activists established relatively stable constellations anarchist principles consensus principles core commentators multiple anarchisms singular anarchism common principles shared schools anarchism group prioritizes principles differently gender equality common principle ranks higher priority anarcha feminists anarcho communists anarchists generally committed coercive authority forms centralized hierarchical forms government monarchy representative democracy state socialism economic class systems capitalism bolshevism feudalism slavery autocratic religions fundamentalist islam roman catholicism patriarchy heterosexism white supremacy imperialism anarchist schools disagree methods forms opposed principle equal liberty closer anarchist political ethics transcends liberal socialist traditions entails liberty equality implemented state resulting questioning forms domination hierarchy tactics anarchists tactics forms general serve major goals oppose establishment secondly promote anarchist ethics reflect anarchist vision society illustrating unity means ends broad categorisation aims destroy oppressive states institutions revolutionary means hand aims change society evolutionary means evolutionary tactics embrace nonviolence reject violence gradual approach anarchist aims significant overlap anarchist tactics shifted course century anarchists early th century focused strikes militancy contemporary anarchists use broader array approaches classical era relationship anarchism violence controversial subject anarchists shown anarchist leon czolgosz assassinating william mckinley classical era anarchists militant tendency confront state armed forces spain ukraine employed terrorism propaganda deed assassination attempts carried heads state successful anarchists took revolutions anarchists especially galleanists believed attempts impetus revolution capitalism state attacks individual assailants majority took place late early occurring early decrease prevalence result judicial power targeting cataloging state institutions anarchist perspectives violence controversial anarcho pacifists advocate non violence means achieve stateless nonviolent ends anarchist groups advocate direct action tactic include acts sabotage terrorism attitude prominent century ago seeing state tyrant anarchists believing right oppose oppression means possible emma goldman errico malatesta proponents limited use violence stated violence merely reaction state violence necessary evil anarchists took active role strike actions tended antipathetic formal syndicalism seeing reformist saw movement sought overthrow state capitalism anarchists reinforced propaganda arts practiced naturism nudism anarchists built communities based friendship involved news media revolutionary black bloc protesters parading anarcho communism imagery motto war class war current era italian anarchist alfredo bonanno proponent insurrectionary anarchism reinstated debate violence rejecting nonviolence tactic adopted late th century kropotkin prominent anarchists bonanno french group invisible committee advocate small informal affiliation groups member responsible actions works bring oppression utilizing sabotage violent means state capitalism enemies members invisible committee arrested charges terrorism included overall contemporary anarchists violent militant ideological ancestors engage confronting police demonstrations riots especially countries canada greece mexico militant black bloc protest groups known clashing police anarchists clash state operators engage struggle fascists racists taking anti fascist action mobilizing prevent hate rallies happening evolutionary anarchists commonly employ direct action form disrupting protesting unjust hierarchy form self managing lives creation counter institutions communes non hierarchical collectives decision making handled anti authoritarian way having equal decision approach known horizontalism contemporary era anarchists engaging grassroots movements based horizontalism explicitly anarchist respecting personal autonomy participating mass activism strikes demonstrations contrast big anarchism classical era newly coined term small anarchism signals tendency base thoughts actions classical era anarchism refer classical anarchists peter kropotkin pierre joseph proudhon justify opinions anarchists base thought praxis experience later theorize decision making process small anarchist affinity groups plays significant tactical role anarchists employed methods order build rough consensus members group need leader leading group way individual group play role facilitator help achieve consensus taking discussion promoting specific point minorities usually accept rough consensus feel proposal contradicts anarchist ethics goals values anarchists usually form small groups individuals enhance autonomy friendships members kinds groups interconnect forming larger networks anarchists support participate strikes especially wildcat strikes leaderless strikes organised centrally syndicate past newspapers journals anarchists gone online world wide web spread message anarchists easier create websites distributional difficulties hosting electronic libraries portals anarchists involved developing software available free way hacktivists work develop distribute resembles anarchist ideals especially comes preserving users privacy state surveillance anarchists organize squat reclaim public spaces important events protests spaces occupied called temporary autonomous zones taz spaces art poetry surrealism blended display anarchist ideal seen anarchists squatting way regain urban space capitalist market serving pragmatical needs exemplary direct action acquiring space enables anarchists experiment ideas build social bonds adding tactics having mind anarchists share attitudes forms protesting highly symbolic events carnivalesque atmosphere contemporary anarchist vividity key issues anarchism philosophy embodies diverse attitudes tendencies schools thought disagreement questions values ideology tactics common diversity led widely different uses identical terms different anarchist traditions created number definitional concerns anarchist theory compatibility capitalism nationalism religion anarchism widely disputed anarchism enjoys complex relationships ideologies communism collectivism marxism trade unionism anarchists motivated humanism divine authority enlightened self veganism number alternative ethical doctrines phenomena civilisation technology anarcho primitivism democratic process sharply criticised anarchist tendencies simultaneously lauded state anarchist protesters boston opposing state waged war objection state institutions sine qua non anarchism anarchists consider state tool domination believe illegitimate regardless political tendencies instead people able control aspects life major decisions taken small elite authority ultimately rests solely power regardless power open transparent ability coerce people anarchist argument states people constituting government altruistic officials unavoidably seek gain power leading corruption anarchists consider idea state collective people unachievable fiction fact ruling class distinct rest society specific anarchist attitudes state vary robert paul wolff believed tension authority autonomy mean state legitimate bakunin saw state meaning coercion domination means coercion camouflaged possible unceremonious overt need john simmons leslie green leaned philosophical anarchism believed state legitimate governed consensus saw highly unlikely beliefs abolish state differ gender sexuality free love gender sexuality carry dynamics hierarchy anarchists address analyse oppose suppression autonomy imposed gender roles collection anarcha feminist protests symbols flags sexuality discussed classical anarchists felt anarchist society lead sexuality naturally developing sexual violence concern anarchists benjamin tucker opposed age consent laws believing benefit predatory men historical current arose flourished anarchism free love contemporary anarchism current survives tendency support polyamory relationship anarchy queer anarchism free love advocates marriage saw way men imposing authority women largely marriage law greatly favoured power men notion free love broader included critique established order limited women sexual freedom pleasure free love movements contributed establishment communal houses large groups travelers anarchists activists slept beds free love roots europe united states anarchists struggled jealousy arose free love anarchist feminists advocates free love marriage pro choice utilising contemporary term similar agenda anarchist non anarchist feminists differed suffrage supportive second half th century anarchism intermingled second wave feminism radicalising currents feminist movement influenced latest decades th century anarchists feminists advocating rights autonomy women gays queers marginalised groups feminist thinkers suggesting fusion currents wave feminism sexual identity compulsory heterosexuality subject study anarchists yielding post structuralist critique sexual normality anarchists distanced line thinking suggesting leaned individualism dropping cause social liberation education anarchist vs statist perspectives education anarchist education state education concept education self mastery education service management community based state run methods practice based learning vocational training aims critical member society productive member society anarchists education stretches emergence classical anarchism anarchists consider proper education sets foundations future autonomy individual society act mutual aid anarchist writers william godwin political justice max stirner false principle education attacked state education private education means ruling class replicate privileges catalan anarchist free thinker francisco ferrer established escuela moderna barcelona opposition established education dictated largely catholic church ferrer approach secular rejecting state church involvement educational process whilst giving pupils large amounts autonomy planning work attendance ferrer aimed educate working class explicitly sought foster class consciousness students school closed constant harassment state ferrer later arrested nonetheless ideas formed inspiration series modern schools world christian anarchist leo tolstoy published essay education culture established similar school founding principle education effective free similar token neill founded summerhill school declaring free coercion anarchist education based largely idea child right develop freely manipulation ought respected rationality lead children morally good conclusions little consensus anarchist figures constitutes manipulation ferrer believed moral indoctrination necessary explicitly taught pupils equality liberty social justice possible capitalism critiques government nationalism late th century contemporary anarchist writers paul goodman herbert read colin ward intensified expanded anarchist critique state education largely focusing need focuses children creativity ability attain career participate consumerism consumer society contemporary anarchists ward claim state education serves perpetuate socioeconomic inequality anarchist education institutions survived modern day major tenets anarchist schools respect child autonomy relying reasoning indoctrination teaching method spread mainstream educational institutions judith suissa names schools explicitly anarchists schools free skool santa cruz united states wider american canadian network schools self managed learning college brighton england paideia school spain arts les chataigniers osny anarchist painter camille pissarro notable example blending anarchism arts connection anarchism art profound classical era anarchism especially artistic currents developing era futurists surrealists literature anarchism associated new apocalyptics neo romanticism movement music anarchism associated music scenes punk anarchists leo tolstoy herbert read stated border artist non artist separates art daily act construct produced alienation caused capitalism prevents humans living joyful life anarchists advocated art means achieve anarchist ends book breaking spell history anarchist filmmakers videotape guerrillas digital ninjas chris robé claims anarchist inflected practices increasingly structured movement based video activism th century prominent anarchists peter kropotkin emma goldman gustav landauer camillo berneri publications anarchy wrote matters pertaining arts overlapping properties art useful anarchists depict critique existing society hierarchies serve prefigurative tool reflect anarchist ideal society turn means direct action protests appeals emotion reason art appeal human powerful effect th century neo impressionist movement ecological aesthetic offered example anarchist perception road socialism les chataigniers osny anarchist painter camille pissarro blending aesthetic social harmony prefiguring ideal anarchistic agrarian community criticism common critique anarchism assertion humans self govern state necessary human survival philosopher bertrand russell supported critique stating peace war tariffs regulations sanitary conditions sale noxious drugs preservation distribution functions hardly performed community central government common criticism anarchism fits world isolation small entities self governing response major anarchist thinkers advocated anarchist federalism criticism anarchism belief inherently unstable anarchist society inevitably evolve state thomas hobbes early social contract theorists argued state emerges response natural anarchy order protect people interests order philosopher robert nozick argued night watchman state minarchy emerge anarchy process invisible hand people exercise liberty buy protection protection agencies evolving minimal state anarchists reject criticisms arguing humans state nature state war anarcho primitivists particular argue humans better state nature small tribes living close land anarchists general argue negatives state organization hierarchies monopolies inequality outweigh benefits philosophy lecturer andrew fiala composed list common arguments anarchism includes critiques anarchism innately related violence destruction pragmatic world protests world ethics secondly anarchism evaluated unfeasible utopian state defeated practically line arguments calls political action reform argument anarchism self contradictory ruling theory ruling theory anarchism calls collective action whilst endorsing autonomy individual collective action taken lastly fiala mentions critique philosophical anarchism ineffective talk thoughts meantime capitalism bourgeois class remains strong philosophical anarchism met criticism members academia following release pro anarchist books john simmons moral principles political obligations law professor william edmundson authored essay argue major philosophical anarchist principles finds fallacious edmundson says individual owe state duty obedience imply anarchism inevitable conclusion state morally legitimate problem political authority michael huemer defends philosophical anarchism claiming political authority moral illusion earliest criticisms anarchism defies fails understand biological inclination authority joseph raz states acceptance authority implies belief following instructions afford success raz believes argument true following authorities successful mistaken instruction anarchists reject criticism challenging disobeying authority entail disappearance advantages acknowledging authority doctors lawyers reliable involve complete surrender independent judgment anarchist perception human nature rejection state commitment social revolution criticised academics naive overly simplistic unrealistic respectively classical anarchism criticised relying heavily belief abolition state lead human cooperation prospering friedrich engels considered principal founders marxism criticised anarchism anti inherently counter revolutionary view revolution authoritarian academic john molyneux writes book anarchism marxist criticism anarchism win believing lacks ability properly implement ideas marxist criticism anarchism utopian character individuals anarchist views values according marxist view social idea follow directly human ideal free individual formed essence marxists state contradiction responsible inability act anarchist vision conflict liberty equality resolved coexistence intertwining outline anarchism list anarchist movements region list anarchist political ideologies list books anarchism list films dealing anarchism anarchist communities list stateless societies list intentional communities list self managed social centers references explanatory notes citations general cited sources primary sources secondary sources tertiary sources reading criticism philosophical anarchism defence philosophical anarchism stating kinds anarchism philosophical political anarchism philosophical political claims anarchistic popular fiction novel argument philosophical anarchism external links anarchy archives online research center history theory anarchism\n",
            "\n"
          ]
        }
      ],
      "source": [
        "# load processed data\n",
        "wiki_preprocess_path = 'wiki_texts_processed.txt'\n",
        "\n",
        "with open(wiki_preprocess_path, 'r', encoding='utf-8') as file:\n",
        "    processed_data = file.readlines()\n",
        "\n",
        "print(processed_data[0])"
      ]
    },
    {
      "cell_type": "code",
      "execution_count": 4,
      "metadata": {},
      "outputs": [
        {
          "name": "stderr",
          "output_type": "stream",
          "text": [
            " 49%|████▉     | 549361/1124826 [03:51<00:38, 15046.39it/s]"
          ]
        }
      ],
      "source": [
        "train_data = []\n",
        "for line in tqdm(processed_data):\n",
        "    words = line.strip().split(' ')\n",
        "    train_data.append(words)"
      ]
    },
    {
      "cell_type": "code",
      "execution_count": 22,
      "metadata": {},
      "outputs": [],
      "source": [
        "from gensim.models import Word2Vec\n",
        "\n",
        "model = Word2Vec(sentences=[['hello', 'world', 'hi']], vector_size=100, window=5, min_count=1, workers=4)\n",
        "model.save(\"word2vec.model\")"
      ]
    },
    {
      "cell_type": "code",
      "execution_count": 23,
      "metadata": {},
      "outputs": [
        {
          "data": {
            "text/plain": [
              "(0, 2)"
            ]
          },
          "execution_count": 23,
          "metadata": {},
          "output_type": "execute_result"
        }
      ],
      "source": [
        "model = Word2Vec.load(\"word2vec.model\")\n",
        "\n",
        "model.train([[\"hello\", \"world\"]], total_examples=1, epochs=1)"
      ]
    },
    {
      "cell_type": "code",
      "execution_count": 27,
      "metadata": {},
      "outputs": [
        {
          "data": {
            "text/plain": [
              "array([ 9.4563962e-05,  3.0773198e-03, -6.8126451e-03, -1.3754654e-03,\n",
              "        7.6685809e-03,  7.3464094e-03, -3.6732971e-03,  2.6427018e-03,\n",
              "       -8.3171297e-03,  6.2054861e-03, -4.6373224e-03, -3.1641065e-03,\n",
              "        9.3113566e-03,  8.7338570e-04,  7.4907029e-03, -6.0740625e-03,\n",
              "        5.1605068e-03,  9.9228229e-03, -8.4573915e-03, -5.1356913e-03,\n",
              "       -7.0648370e-03, -4.8626517e-03, -3.7785638e-03, -8.5361991e-03,\n",
              "        7.9556061e-03, -4.8439382e-03,  8.4236134e-03,  5.2625705e-03,\n",
              "       -6.5500261e-03,  3.9578713e-03,  5.4701497e-03, -7.4265362e-03,\n",
              "       -7.4057197e-03, -2.4752307e-03, -8.6257253e-03, -1.5815723e-03,\n",
              "       -4.0343284e-04,  3.2996845e-03,  1.4418805e-03, -8.8142155e-04,\n",
              "       -5.5940580e-03,  1.7303658e-03, -8.9737179e-04,  6.7936908e-03,\n",
              "        3.9735902e-03,  4.5294715e-03,  1.4343059e-03, -2.6998555e-03,\n",
              "       -4.3668128e-03, -1.0320747e-03,  1.4370275e-03, -2.6460087e-03,\n",
              "       -7.0737829e-03, -7.8053069e-03, -9.1217868e-03, -5.9351693e-03,\n",
              "       -1.8474245e-03, -4.3238713e-03, -6.4606704e-03, -3.7173224e-03,\n",
              "        4.2891586e-03, -3.7390434e-03,  8.3781751e-03,  1.5339935e-03,\n",
              "       -7.2423196e-03,  9.4337985e-03,  7.6312125e-03,  5.4932819e-03,\n",
              "       -6.8488456e-03,  5.8226790e-03,  4.0090932e-03,  5.1853694e-03,\n",
              "        4.2559016e-03,  1.9397545e-03, -3.1701624e-03,  8.3538452e-03,\n",
              "        9.6121803e-03,  3.7926030e-03, -2.8369951e-03,  7.1275235e-06,\n",
              "        1.2188185e-03, -8.4583247e-03, -8.2239453e-03, -2.3101569e-04,\n",
              "        1.2372875e-03, -5.7433806e-03, -4.7252737e-03, -7.3460746e-03,\n",
              "        8.3286157e-03,  1.2129784e-04, -4.5093987e-03,  5.7017053e-03,\n",
              "        9.1800150e-03, -4.0998720e-03,  7.9646818e-03,  5.3754342e-03,\n",
              "        5.8791232e-03,  5.1259040e-04,  8.2130842e-03, -7.0190406e-03],\n",
              "      dtype=float32)"
            ]
          },
          "execution_count": 27,
          "metadata": {},
          "output_type": "execute_result"
        }
      ],
      "source": [
        "model.wv['hello']"
      ]
    },
    {
      "cell_type": "code",
      "execution_count": null,
      "metadata": {
        "id": "qWiQF70izxP7"
      },
      "outputs": [],
      "source": [
        "data = pd.read_csv(\"questions-words.csv\")"
      ]
    },
    {
      "cell_type": "code",
      "execution_count": null,
      "metadata": {
        "id": "q6xpqgdIy5x1"
      },
      "outputs": [],
      "source": [
        "# Do predictions and preserve the gold answers (word_D)\n",
        "preds = []\n",
        "golds = []\n",
        "\n",
        "for analogy in tqdm(data[\"Question\"]):\n",
        "      # TODO6: Write your code here to use your trained word embeddings for getting predictions of the analogy task.\n",
        "      # You should also preserve the gold answers during iterations for evaluations later.\n",
        "      \"\"\" Hints\n",
        "      # Unpack the analogy (e.g., \"man\", \"woman\", \"king\", \"queen\")\n",
        "      # Perform vector arithmetic: word_b + word_c - word_a should be close to word_d\n",
        "      # Source: https://github.com/piskvorky/gensim/blob/develop/gensim/models/keyedvectors.py#L776\n",
        "      # Mikolov et al., 2013: big - biggest and small - smallest\n",
        "      # Mikolov et al., 2013: X = vector(”biggest”) − vector(”big”) + vector(”small”).\n",
        "      \"\"\""
      ]
    },
    {
      "cell_type": "code",
      "execution_count": null,
      "metadata": {
        "id": "AjZ14dQL0mhf"
      },
      "outputs": [],
      "source": [
        "# Collect words from Google Analogy dataset\n",
        "SUB_CATEGORY = \": family\"\n",
        "\n",
        "# TODO7: Plot t-SNE for the words in the SUB_CATEGORY `: family`\n",
        "\n",
        "\n",
        "plt.title(\"Word Relationships from Google Analogy Task\")\n",
        "plt.show()\n",
        "plt.savefig(\"word_relationships.png\", bbox_inches=\"tight\")"
      ]
    }
  ],
  "metadata": {
    "colab": {
      "provenance": []
    },
    "kernelspec": {
      "display_name": "Python 3",
      "name": "python3"
    },
    "language_info": {
      "codemirror_mode": {
        "name": "ipython",
        "version": 3
      },
      "file_extension": ".py",
      "mimetype": "text/x-python",
      "name": "python",
      "nbconvert_exporter": "python",
      "pygments_lexer": "ipython3",
      "version": "3.10.14"
    }
  },
  "nbformat": 4,
  "nbformat_minor": 0
}
