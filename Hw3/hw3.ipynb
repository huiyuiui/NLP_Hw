{
 "cells": [
  {
   "cell_type": "code",
   "execution_count": 1,
   "metadata": {},
   "outputs": [
    {
     "name": "stderr",
     "output_type": "stream",
     "text": [
      "/home/hui/miniconda3/envs/torch_gpu/lib/python3.10/site-packages/tqdm/auto.py:21: TqdmWarning: IProgress not found. Please update jupyter and ipywidgets. See https://ipywidgets.readthedocs.io/en/stable/user_install.html\n",
      "  from .autonotebook import tqdm as notebook_tqdm\n"
     ]
    }
   ],
   "source": [
    "import transformers as T\n",
    "from datasets import load_dataset\n",
    "import torch\n",
    "from torch.utils.data import Dataset, DataLoader\n",
    "from torch.optim import AdamW, Adam\n",
    "from tqdm import tqdm\n",
    "from torchmetrics import SpearmanCorrCoef, Accuracy, F1Score\n",
    "import pandas as pd\n",
    "import numpy as np\n",
    "device = \"cuda:1\" if torch.cuda.is_available() else \"cpu\""
   ]
  },
  {
   "cell_type": "code",
   "execution_count": 2,
   "metadata": {},
   "outputs": [],
   "source": [
    "# 有些中文的標點符號在tokenizer編碼以後會變成[UNK]，所以將其換成英文標點\n",
    "token_replacement = [\n",
    "    [\"：\" , \":\"],\n",
    "    [\"，\" , \",\"],\n",
    "    [\"“\" , \"\\\"\"],\n",
    "    [\"”\" , \"\\\"\"],\n",
    "    [\"？\" , \"?\"],\n",
    "    [\"……\" , \"...\"],\n",
    "    [\"！\" , \"!\"]\n",
    "]"
   ]
  },
  {
   "cell_type": "code",
   "execution_count": 3,
   "metadata": {},
   "outputs": [],
   "source": [
    "tokenizer = T.BertTokenizer.from_pretrained(\"google-bert/bert-base-uncased\", cache_dir=\"./cache/\")"
   ]
  },
  {
   "cell_type": "code",
   "execution_count": 4,
   "metadata": {},
   "outputs": [],
   "source": [
    "# class SemevalDataset(Dataset):\n",
    "#     def __init__(self, split=\"train\") -> None:\n",
    "#         super().__init__()\n",
    "#         assert split in [\"train\", \"validation\"]\n",
    "#         self.data = load_dataset(\n",
    "#             \"sem_eval_2014_task_1\", split=split, cache_dir=\"./cache/\"\n",
    "#         ).to_list()\n",
    "\n",
    "#     def __getitem__(self, index):\n",
    "#         d = self.data[index]\n",
    "#         # 把中文標點替換掉\n",
    "#         for k in [\"premise\", \"hypothesis\"]:\n",
    "#             for tok in token_replacement:\n",
    "#                 d[k] = d[k].replace(tok[0], tok[1])\n",
    "#         return d\n",
    "\n",
    "#     def __len__(self):\n",
    "#         return len(self.data)\n",
    "\n",
    "# data_sample = SemevalDataset(split=\"train\").data[:3]\n",
    "# print(f\"Dataset example: \\n{data_sample[0]} \\n{data_sample[1]} \\n{data_sample[2]}\")"
   ]
  },
  {
   "cell_type": "code",
   "execution_count": 5,
   "metadata": {},
   "outputs": [],
   "source": [
    "# raw_train_data = load_dataset(\"sem_eval_2014_task_1\", split=\"train\", cache_dir=\"./cache/\").to_list()\n",
    "# raw_valid_data = load_dataset(\"sem_eval_2014_task_1\", split=\"validation\", cache_dir=\"./cache/\").to_list()\n",
    "# raw_test_data = load_dataset(\"sem_eval_2014_task_1\", split=\"test\", cache_dir=\"./cache/\").to_list()\n",
    "\n",
    "# processed_train_data = []\n",
    "# processed_valid_data = []\n",
    "# processed_test_data = []\n",
    "\n",
    "# for data in raw_train_data:\n",
    "#     for k in [\"premise\", \"hypothesis\"]:\n",
    "#         for tok in token_replacement:\n",
    "#             data[k] = data[k].replace(tok[0], tok[1])\n",
    "#     processed_train_data.append(data)\n",
    "\n",
    "# for data in raw_valid_data:\n",
    "#     for k in [\"premise\", \"hypothesis\"]:\n",
    "#         for tok in token_replacement:\n",
    "#             data[k] = data[k].replace(tok[0], tok[1])\n",
    "#     processed_valid_data.append(data)\n",
    "\n",
    "# for data in raw_test_data:\n",
    "#     for k in [\"premise\", \"hypothesis\"]:\n",
    "#         for tok in token_replacement:\n",
    "#             data[k] = data[k].replace(tok[0], tok[1])\n",
    "#     processed_test_data.append(data)\n",
    "\n",
    "\n",
    "# df_train = pd.DataFrame(processed_train_data)\n",
    "# df_valid = pd.DataFrame(processed_valid_data)\n",
    "# df_test = pd.DataFrame(processed_test_data)\n",
    "\n",
    "# df_train.to_csv(\"dataset/train_data.csv\", index=False, encoding='utf-8')\n",
    "# df_valid.to_csv(\"dataset/valid_data.csv\", index=False, encoding='utf-8')\n",
    "# df_test.to_csv(\"dataset/test_data.csv\", index=False, encoding='utf-8')"
   ]
  },
  {
   "cell_type": "code",
   "execution_count": 6,
   "metadata": {},
   "outputs": [
    {
     "data": {
      "text/html": [
       "<div>\n",
       "<style scoped>\n",
       "    .dataframe tbody tr th:only-of-type {\n",
       "        vertical-align: middle;\n",
       "    }\n",
       "\n",
       "    .dataframe tbody tr th {\n",
       "        vertical-align: top;\n",
       "    }\n",
       "\n",
       "    .dataframe thead th {\n",
       "        text-align: right;\n",
       "    }\n",
       "</style>\n",
       "<table border=\"1\" class=\"dataframe\">\n",
       "  <thead>\n",
       "    <tr style=\"text-align: right;\">\n",
       "      <th></th>\n",
       "      <th>sentence_pair_id</th>\n",
       "      <th>premise</th>\n",
       "      <th>hypothesis</th>\n",
       "      <th>relatedness_score</th>\n",
       "      <th>entailment_judgment</th>\n",
       "    </tr>\n",
       "  </thead>\n",
       "  <tbody>\n",
       "    <tr>\n",
       "      <th>0</th>\n",
       "      <td>1</td>\n",
       "      <td>A group of kids is playing in a yard and an ol...</td>\n",
       "      <td>A group of boys in a yard is playing and a man...</td>\n",
       "      <td>4.5</td>\n",
       "      <td>0</td>\n",
       "    </tr>\n",
       "    <tr>\n",
       "      <th>1</th>\n",
       "      <td>2</td>\n",
       "      <td>A group of children is playing in the house an...</td>\n",
       "      <td>A group of kids is playing in a yard and an ol...</td>\n",
       "      <td>3.2</td>\n",
       "      <td>0</td>\n",
       "    </tr>\n",
       "    <tr>\n",
       "      <th>2</th>\n",
       "      <td>3</td>\n",
       "      <td>The young boys are playing outdoors and the ma...</td>\n",
       "      <td>The kids are playing outdoors near a man with ...</td>\n",
       "      <td>4.7</td>\n",
       "      <td>1</td>\n",
       "    </tr>\n",
       "    <tr>\n",
       "      <th>3</th>\n",
       "      <td>5</td>\n",
       "      <td>The kids are playing outdoors near a man with ...</td>\n",
       "      <td>A group of kids is playing in a yard and an ol...</td>\n",
       "      <td>3.4</td>\n",
       "      <td>0</td>\n",
       "    </tr>\n",
       "    <tr>\n",
       "      <th>4</th>\n",
       "      <td>9</td>\n",
       "      <td>The young boys are playing outdoors and the ma...</td>\n",
       "      <td>A group of kids is playing in a yard and an ol...</td>\n",
       "      <td>3.7</td>\n",
       "      <td>0</td>\n",
       "    </tr>\n",
       "  </tbody>\n",
       "</table>\n",
       "</div>"
      ],
      "text/plain": [
       "   sentence_pair_id                                            premise  \\\n",
       "0                 1  A group of kids is playing in a yard and an ol...   \n",
       "1                 2  A group of children is playing in the house an...   \n",
       "2                 3  The young boys are playing outdoors and the ma...   \n",
       "3                 5  The kids are playing outdoors near a man with ...   \n",
       "4                 9  The young boys are playing outdoors and the ma...   \n",
       "\n",
       "                                          hypothesis  relatedness_score  \\\n",
       "0  A group of boys in a yard is playing and a man...                4.5   \n",
       "1  A group of kids is playing in a yard and an ol...                3.2   \n",
       "2  The kids are playing outdoors near a man with ...                4.7   \n",
       "3  A group of kids is playing in a yard and an ol...                3.4   \n",
       "4  A group of kids is playing in a yard and an ol...                3.7   \n",
       "\n",
       "   entailment_judgment  \n",
       "0                    0  \n",
       "1                    0  \n",
       "2                    1  \n",
       "3                    0  \n",
       "4                    0  "
      ]
     },
     "execution_count": 6,
     "metadata": {},
     "output_type": "execute_result"
    }
   ],
   "source": [
    "df_train = pd.read_csv('dataset/train_data.csv')\n",
    "df_valid = pd.read_csv('dataset/valid_data.csv')\n",
    "\n",
    "df_train.head(5)"
   ]
  },
  {
   "cell_type": "code",
   "execution_count": 7,
   "metadata": {},
   "outputs": [],
   "source": [
    "class CustomDataset(Dataset):\n",
    "    def __init__(self, data):\n",
    "        self.data = data\n",
    "        \n",
    "    def __len__(self):\n",
    "        return len(self.data)\n",
    "    \n",
    "    def __getitem__(self, index):\n",
    "        return {\n",
    "            \"sentence_pair_id\": self.data['sentence_pair_id'][index],\n",
    "            \"premise\": self.data['premise'][index],\n",
    "            \"hypothesis\": self.data['hypothesis'][index],\n",
    "            \"relatedness_score\": self.data['relatedness_score'][index],\n",
    "            \"entailment_judgment\": self.data['entailment_judgment'][index]\n",
    "        }"
   ]
  },
  {
   "cell_type": "code",
   "execution_count": 8,
   "metadata": {},
   "outputs": [],
   "source": [
    "# Define the hyperparameters\n",
    "train_batch_size = 8\n",
    "valid_batch_size = 8"
   ]
  },
  {
   "cell_type": "code",
   "execution_count": 9,
   "metadata": {},
   "outputs": [],
   "source": [
    "# TODO1: Create batched data for DataLoader\n",
    "# collate_fn is a function that defines how the data batch should be packed.\n",
    "# This function will be called in the DataLoader to pack the data batch.\n",
    "\n",
    "def collate_fn(batch):\n",
    "    # TODO1-1: Implement the collate_fn function\n",
    "    # Write your code here\n",
    "    # The input parameter is a data batch (tuple), and this function packs it into tensors.\n",
    "    # Use tokenizer to pack tokenize and pack the data and its corresponding labels.\n",
    "    # Return the data batch and labels for each sub-task.\n",
    "    sentence_pair_id = [item['sentence_pair_id'] for item in batch]\n",
    "    premises = [item['premise'] for item in batch]\n",
    "    hypotheses = [item['hypothesis'] for item in batch]\n",
    "    relatedness_score = [item['relatedness_score'] for item in batch]\n",
    "    entailment_judgment = [item['entailment_judgment'] for item in batch]\n",
    "    \n",
    "    encoded_data = tokenizer(premises, hypotheses, truncation=True, padding=True, max_length=128, return_tensors='pt')\n",
    "    \n",
    "    return {\n",
    "        \"input_ids\": encoded_data['input_ids'],\n",
    "        \"token_type_ids\": encoded_data['token_type_ids'],\n",
    "        \"attention_mask\": encoded_data['attention_mask'],\n",
    "        \"relatedness_score\": torch.tensor(relatedness_score, dtype=torch.float),\n",
    "        \"entailment_judgments\": torch.tensor(entailment_judgment, dtype=torch.long)\n",
    "    }\n",
    "    \n",
    "\n",
    "# TODO1-2: Define your DataLoader\n",
    "train_dataset = CustomDataset(df_train)\n",
    "valid_dataset = CustomDataset(df_valid)\n",
    "dl_train = DataLoader(dataset=train_dataset, batch_size=train_batch_size, shuffle=True, collate_fn=collate_fn)\n",
    "dl_valid = DataLoader(dataset=valid_dataset, batch_size=valid_batch_size, shuffle=True, collate_fn=collate_fn)"
   ]
  },
  {
   "cell_type": "code",
   "execution_count": 10,
   "metadata": {},
   "outputs": [],
   "source": [
    "from transformers import BertModel"
   ]
  },
  {
   "cell_type": "code",
   "execution_count": 11,
   "metadata": {},
   "outputs": [],
   "source": [
    "# TODO2: Construct your model\n",
    "class MultiLabelModel(torch.nn.Module):\n",
    "    def __init__(self, linear_hidden):\n",
    "        super(MultiLabelModel, self).__init__()\n",
    "        # Write your code here\n",
    "        # Define what modules you will use in the model\n",
    "        self.bert = BertModel.from_pretrained(\"bert-base-uncased\", cache_dir=\"./cache/\")\n",
    "        self.bert_hidden = self.bert.config.hidden_size # in bert, hidden size should be 768\n",
    "        self.linear_hidden = linear_hidden\n",
    "        self.relatedness_score_linear = torch.nn.Sequential(\n",
    "            torch.nn.Linear(in_features=self.bert_hidden, out_features=linear_hidden),\n",
    "            torch.nn.ReLU(),\n",
    "            torch.nn.Dropout(0.3),\n",
    "            torch.nn.Linear(in_features=self.linear_hidden, out_features=1)\n",
    "        )\n",
    "        self.entailment_judgments_linear = torch.nn.Sequential(\n",
    "            torch.nn.Linear(in_features=self.bert_hidden, out_features=linear_hidden),\n",
    "            torch.nn.ReLU(),\n",
    "            torch.nn.Dropout(0.3),\n",
    "            torch.nn.Linear(in_features=self.linear_hidden, out_features=3)\n",
    "        )\n",
    "\n",
    "    def forward(self, input_ids, token_type_ids, attention_mask):\n",
    "        # Write your code here\n",
    "        # Forward pass\n",
    "        bert_out = self.bert(input_ids=input_ids, attention_mask=attention_mask, token_type_ids=token_type_ids)\n",
    "        cls_out = bert_out.pooler_output # shape: (batch_size, hidden_size)\n",
    "        relatedness_score = self.relatedness_score_linear(cls_out).squeeze(-1)\n",
    "        entailment_judgments = self.entailment_judgments_linear(cls_out)\n",
    "\n",
    "        return relatedness_score, entailment_judgments"
   ]
  },
  {
   "cell_type": "code",
   "execution_count": 12,
   "metadata": {},
   "outputs": [],
   "source": [
    "# Model Hyper-Parameters\n",
    "lr = 3e-5\n",
    "epochs = 5\n",
    "linear_hidden = 128\n",
    "alpha = 0.7 # regression loss weight\n",
    "beta = 0.3 # classification loss weight"
   ]
  },
  {
   "cell_type": "code",
   "execution_count": 13,
   "metadata": {},
   "outputs": [
    {
     "name": "stderr",
     "output_type": "stream",
     "text": [
      "/home/hui/miniconda3/envs/torch_gpu/lib/python3.10/site-packages/torchmetrics/utilities/prints.py:43: UserWarning: Metric `SpearmanCorrcoef` will save all targets and predictions in the buffer. For large datasets, this may lead to large memory footprint.\n",
      "  warnings.warn(*args, **kwargs)  # noqa: B028\n"
     ]
    }
   ],
   "source": [
    "# TODO3: Define your optimizer and loss function\n",
    "model = MultiLabelModel(linear_hidden=linear_hidden).to(device)\n",
    "\n",
    "# TODO3-1: Define your Optimizer\n",
    "optimizer = Adam(model.parameters(), lr=lr)\n",
    "\n",
    "# TODO3-2: Define your loss functions (you should have two)\n",
    "mse_loss = torch.nn.MSELoss()\n",
    "cross_entropy_loss = torch.nn.CrossEntropyLoss()\n",
    "\n",
    "# scoring functions\n",
    "spc = SpearmanCorrCoef()\n",
    "acc = Accuracy(task=\"multiclass\", num_classes=3)\n",
    "f1 = F1Score(task=\"multiclass\", num_classes=3, average='macro')"
   ]
  },
  {
   "cell_type": "code",
   "execution_count": 14,
   "metadata": {},
   "outputs": [
    {
     "name": "stderr",
     "output_type": "stream",
     "text": [
      "Training epoch [1/5]: 100%|██████████| 563/563 [00:20<00:00, 27.35it/s]\n",
      "Validation epoch [1/5]: 100%|██████████| 63/63 [00:00<00:00, 114.12it/s]\n"
     ]
    },
    {
     "name": "stdout",
     "output_type": "stream",
     "text": [
      "Validation Result:\n",
      "Spearman Corr: 0.7467721700668335\n",
      "Accuracy: 0.7620000243186951\n",
      "F1 score: 0.7310763597488403\n"
     ]
    },
    {
     "name": "stderr",
     "output_type": "stream",
     "text": [
      "Training epoch [2/5]: 100%|██████████| 563/563 [00:20<00:00, 27.54it/s]\n",
      "Validation epoch [2/5]: 100%|██████████| 63/63 [00:00<00:00, 114.16it/s]\n"
     ]
    },
    {
     "name": "stdout",
     "output_type": "stream",
     "text": [
      "Validation Result:\n",
      "Spearman Corr: 0.8002387285232544\n",
      "Accuracy: 0.8500000238418579\n",
      "F1 score: 0.8453525304794312\n"
     ]
    },
    {
     "name": "stderr",
     "output_type": "stream",
     "text": [
      "Training epoch [3/5]: 100%|██████████| 563/563 [00:20<00:00, 27.42it/s]\n",
      "Validation epoch [3/5]: 100%|██████████| 63/63 [00:00<00:00, 114.16it/s]\n"
     ]
    },
    {
     "name": "stdout",
     "output_type": "stream",
     "text": [
      "Validation Result:\n",
      "Spearman Corr: 0.8022306561470032\n",
      "Accuracy: 0.8399999737739563\n",
      "F1 score: 0.838232159614563\n"
     ]
    },
    {
     "name": "stderr",
     "output_type": "stream",
     "text": [
      "Training epoch [4/5]: 100%|██████████| 563/563 [00:20<00:00, 27.31it/s]\n",
      "Validation epoch [4/5]: 100%|██████████| 63/63 [00:00<00:00, 113.50it/s]\n"
     ]
    },
    {
     "name": "stdout",
     "output_type": "stream",
     "text": [
      "Validation Result:\n",
      "Spearman Corr: 0.8166323900222778\n",
      "Accuracy: 0.8320000171661377\n",
      "F1 score: 0.835492730140686\n"
     ]
    },
    {
     "name": "stderr",
     "output_type": "stream",
     "text": [
      "Training epoch [5/5]: 100%|██████████| 563/563 [00:20<00:00, 27.18it/s]\n",
      "Validation epoch [5/5]: 100%|██████████| 63/63 [00:00<00:00, 111.76it/s]"
     ]
    },
    {
     "name": "stdout",
     "output_type": "stream",
     "text": [
      "Validation Result:\n",
      "Spearman Corr: 0.828504204750061\n",
      "Accuracy: 0.8500000238418579\n",
      "F1 score: 0.8478080034255981\n"
     ]
    },
    {
     "name": "stderr",
     "output_type": "stream",
     "text": [
      "\n"
     ]
    }
   ],
   "source": [
    "for ep in range(epochs):\n",
    "    pbar = tqdm(dl_train)\n",
    "    pbar.set_description(f\"Training epoch [{ep+1}/{epochs}]\")\n",
    "    model.train()\n",
    "    # TODO4: Write the training loop\n",
    "    # Write your code here\n",
    "    # train your model\n",
    "    # clear gradient\n",
    "    # forward pass\n",
    "    # compute loss\n",
    "    # back-propagation\n",
    "    # model optimization\n",
    "    for batch_data in pbar:\n",
    "        input_ids = batch_data['input_ids'].to(device)\n",
    "        token_type_ids = batch_data['token_type_ids'].to(device)\n",
    "        attention_mask = batch_data['attention_mask'].to(device)\n",
    "        relatedness_score = batch_data['relatedness_score'].to(device)\n",
    "        entailment_judgments = batch_data['entailment_judgments'].to(device)\n",
    "\n",
    "        # Forward\n",
    "        optimizer.zero_grad()\n",
    "        pred_relatedness, pred_entailment = model(input_ids, token_type_ids, attention_mask)\n",
    "\n",
    "        # Backward\n",
    "        regression_loss = mse_loss(pred_relatedness, relatedness_score)\n",
    "        classification_loss = cross_entropy_loss(pred_entailment, entailment_judgments)\n",
    "        total_loss = alpha * regression_loss + beta * classification_loss\n",
    "        total_loss.backward()\n",
    "\n",
    "        # Optimize\n",
    "        optimizer.step()\n",
    "\n",
    "    # save model firsst\n",
    "    torch.save(model, f'./checkpoints/model_{ep+1}.ckpt')\n",
    "\n",
    "    pbar = tqdm(dl_valid)\n",
    "    pbar.set_description(f\"Validation epoch [{ep+1}/{epochs}]\")\n",
    "    model.eval()\n",
    "    # TODO5: Write the evaluation loop\n",
    "    # Write your code here\n",
    "    # Evaluate your model\n",
    "    # Output all the evaluation scores (SpearmanCorrCoef, Accuracy, F1Score)\n",
    "    pred_relatedness_list = []\n",
    "    pred_entailment_list = []\n",
    "    gt_relatedness = []\n",
    "    gt_entailment = []\n",
    "    with torch.no_grad():\n",
    "        for batch_data in pbar:\n",
    "            input_ids = batch_data['input_ids'].to(device)\n",
    "            token_type_ids = batch_data['token_type_ids'].to(device)\n",
    "            attention_mask = batch_data['attention_mask'].to(device)\n",
    "            relatedness_score = batch_data['relatedness_score'].to(device)\n",
    "            entailment_judgments = batch_data['entailment_judgments'].to(device)\n",
    "\n",
    "            # Forward\n",
    "            pred_relatedness, pred_entailment = model(input_ids, token_type_ids, attention_mask)\n",
    "\n",
    "            pred_relatedness_list.append(pred_relatedness)\n",
    "            pred_entailment_list.append(torch.argmax(pred_entailment, dim=-1)) # predict class label\n",
    "            gt_relatedness.append(relatedness_score)\n",
    "            gt_entailment.append(entailment_judgments)\n",
    "    \n",
    "    # evaluation\n",
    "    pred_relatedness_tensor = torch.cat(pred_relatedness_list).view(-1).to('cpu')\n",
    "    pred_entailment_tensor = torch.cat(pred_entailment_list).view(-1).to('cpu')\n",
    "    gt_relatedness = torch.cat(gt_relatedness).view(-1).to('cpu')\n",
    "    gt_entailment = torch.cat(gt_entailment).view(-1).to('cpu')\n",
    "\n",
    "    relation_coeff = spc(pred_relatedness_tensor, gt_relatedness)\n",
    "    entail_acc = acc(pred_entailment_tensor, gt_entailment)\n",
    "    entail_f1 = f1(pred_entailment_tensor, gt_entailment)\n",
    "\n",
    "    print(\"Validation Result:\")\n",
    "    print(f\"Spearman Corr: {relation_coeff}\")\n",
    "    print(f\"Accuracy: {entail_acc}\")\n",
    "    print(f\"F1 score: {entail_f1}\")"
   ]
  },
  {
   "cell_type": "markdown",
   "metadata": {},
   "source": [
    "For test set predictions, you can write perform evaluation simlar to #TODO5."
   ]
  },
  {
   "cell_type": "code",
   "execution_count": 14,
   "metadata": {},
   "outputs": [
    {
     "data": {
      "text/html": [
       "<div>\n",
       "<style scoped>\n",
       "    .dataframe tbody tr th:only-of-type {\n",
       "        vertical-align: middle;\n",
       "    }\n",
       "\n",
       "    .dataframe tbody tr th {\n",
       "        vertical-align: top;\n",
       "    }\n",
       "\n",
       "    .dataframe thead th {\n",
       "        text-align: right;\n",
       "    }\n",
       "</style>\n",
       "<table border=\"1\" class=\"dataframe\">\n",
       "  <thead>\n",
       "    <tr style=\"text-align: right;\">\n",
       "      <th></th>\n",
       "      <th>sentence_pair_id</th>\n",
       "      <th>premise</th>\n",
       "      <th>hypothesis</th>\n",
       "      <th>relatedness_score</th>\n",
       "      <th>entailment_judgment</th>\n",
       "    </tr>\n",
       "  </thead>\n",
       "  <tbody>\n",
       "    <tr>\n",
       "      <th>0</th>\n",
       "      <td>6</td>\n",
       "      <td>There is no boy playing outdoors and there is ...</td>\n",
       "      <td>A group of kids is playing in a yard and an ol...</td>\n",
       "      <td>3.300</td>\n",
       "      <td>0</td>\n",
       "    </tr>\n",
       "    <tr>\n",
       "      <th>1</th>\n",
       "      <td>7</td>\n",
       "      <td>A group of boys in a yard is playing and a man...</td>\n",
       "      <td>The young boys are playing outdoors and the ma...</td>\n",
       "      <td>3.700</td>\n",
       "      <td>0</td>\n",
       "    </tr>\n",
       "    <tr>\n",
       "      <th>2</th>\n",
       "      <td>8</td>\n",
       "      <td>A group of children is playing in the house an...</td>\n",
       "      <td>The young boys are playing outdoors and the ma...</td>\n",
       "      <td>3.000</td>\n",
       "      <td>0</td>\n",
       "    </tr>\n",
       "    <tr>\n",
       "      <th>3</th>\n",
       "      <td>10</td>\n",
       "      <td>A brown dog is attacking another animal in fro...</td>\n",
       "      <td>A brown dog is attacking another animal in fro...</td>\n",
       "      <td>4.900</td>\n",
       "      <td>1</td>\n",
       "    </tr>\n",
       "    <tr>\n",
       "      <th>4</th>\n",
       "      <td>11</td>\n",
       "      <td>A brown dog is attacking another animal in fro...</td>\n",
       "      <td>A brown dog is helping another animal in front...</td>\n",
       "      <td>3.665</td>\n",
       "      <td>0</td>\n",
       "    </tr>\n",
       "  </tbody>\n",
       "</table>\n",
       "</div>"
      ],
      "text/plain": [
       "   sentence_pair_id                                            premise  \\\n",
       "0                 6  There is no boy playing outdoors and there is ...   \n",
       "1                 7  A group of boys in a yard is playing and a man...   \n",
       "2                 8  A group of children is playing in the house an...   \n",
       "3                10  A brown dog is attacking another animal in fro...   \n",
       "4                11  A brown dog is attacking another animal in fro...   \n",
       "\n",
       "                                          hypothesis  relatedness_score  \\\n",
       "0  A group of kids is playing in a yard and an ol...              3.300   \n",
       "1  The young boys are playing outdoors and the ma...              3.700   \n",
       "2  The young boys are playing outdoors and the ma...              3.000   \n",
       "3  A brown dog is attacking another animal in fro...              4.900   \n",
       "4  A brown dog is helping another animal in front...              3.665   \n",
       "\n",
       "   entailment_judgment  \n",
       "0                    0  \n",
       "1                    0  \n",
       "2                    0  \n",
       "3                    1  \n",
       "4                    0  "
      ]
     },
     "execution_count": 14,
     "metadata": {},
     "output_type": "execute_result"
    }
   ],
   "source": [
    "df_test = pd.read_csv('dataset/test_data.csv')\n",
    "\n",
    "df_test.head(5)"
   ]
  },
  {
   "cell_type": "code",
   "execution_count": 30,
   "metadata": {},
   "outputs": [],
   "source": [
    "test_batch_size = 8\n",
    "\n",
    "test_dataset = CustomDataset(df_test)\n",
    "dl_test = DataLoader(dataset=test_dataset, batch_size=test_batch_size, shuffle=False, collate_fn=collate_fn)"
   ]
  },
  {
   "cell_type": "code",
   "execution_count": 31,
   "metadata": {},
   "outputs": [
    {
     "name": "stderr",
     "output_type": "stream",
     "text": [
      "/tmp/ipykernel_216455/4044531764.py:1: FutureWarning: You are using `torch.load` with `weights_only=False` (the current default value), which uses the default pickle module implicitly. It is possible to construct malicious pickle data which will execute arbitrary code during unpickling (See https://github.com/pytorch/pytorch/blob/main/SECURITY.md#untrusted-models for more details). In a future release, the default value for `weights_only` will be flipped to `True`. This limits the functions that could be executed during unpickling. Arbitrary objects will no longer be allowed to be loaded via this mode unless they are explicitly allowlisted by the user via `torch.serialization.add_safe_globals`. We recommend you start setting `weights_only=True` for any use case where you don't have full control of the loaded file. Please open an issue on GitHub for any issues related to this experimental feature.\n",
      "  model = torch.load('./checkpoints/model_5.ckpt')\n"
     ]
    },
    {
     "data": {
      "text/plain": [
       "MultiLabelModel(\n",
       "  (bert): BertModel(\n",
       "    (embeddings): BertEmbeddings(\n",
       "      (word_embeddings): Embedding(30522, 768, padding_idx=0)\n",
       "      (position_embeddings): Embedding(512, 768)\n",
       "      (token_type_embeddings): Embedding(2, 768)\n",
       "      (LayerNorm): LayerNorm((768,), eps=1e-12, elementwise_affine=True)\n",
       "      (dropout): Dropout(p=0.1, inplace=False)\n",
       "    )\n",
       "    (encoder): BertEncoder(\n",
       "      (layer): ModuleList(\n",
       "        (0-11): 12 x BertLayer(\n",
       "          (attention): BertAttention(\n",
       "            (self): BertSdpaSelfAttention(\n",
       "              (query): Linear(in_features=768, out_features=768, bias=True)\n",
       "              (key): Linear(in_features=768, out_features=768, bias=True)\n",
       "              (value): Linear(in_features=768, out_features=768, bias=True)\n",
       "              (dropout): Dropout(p=0.1, inplace=False)\n",
       "            )\n",
       "            (output): BertSelfOutput(\n",
       "              (dense): Linear(in_features=768, out_features=768, bias=True)\n",
       "              (LayerNorm): LayerNorm((768,), eps=1e-12, elementwise_affine=True)\n",
       "              (dropout): Dropout(p=0.1, inplace=False)\n",
       "            )\n",
       "          )\n",
       "          (intermediate): BertIntermediate(\n",
       "            (dense): Linear(in_features=768, out_features=3072, bias=True)\n",
       "            (intermediate_act_fn): GELUActivation()\n",
       "          )\n",
       "          (output): BertOutput(\n",
       "            (dense): Linear(in_features=3072, out_features=768, bias=True)\n",
       "            (LayerNorm): LayerNorm((768,), eps=1e-12, elementwise_affine=True)\n",
       "            (dropout): Dropout(p=0.1, inplace=False)\n",
       "          )\n",
       "        )\n",
       "      )\n",
       "    )\n",
       "    (pooler): BertPooler(\n",
       "      (dense): Linear(in_features=768, out_features=768, bias=True)\n",
       "      (activation): Tanh()\n",
       "    )\n",
       "  )\n",
       "  (relatedness_score_linear): Sequential(\n",
       "    (0): Linear(in_features=768, out_features=128, bias=True)\n",
       "    (1): ReLU()\n",
       "    (2): Dropout(p=0.3, inplace=False)\n",
       "    (3): Linear(in_features=128, out_features=1, bias=True)\n",
       "  )\n",
       "  (entailment_judgments_linear): Sequential(\n",
       "    (0): Linear(in_features=768, out_features=128, bias=True)\n",
       "    (1): ReLU()\n",
       "    (2): Dropout(p=0.3, inplace=False)\n",
       "    (3): Linear(in_features=128, out_features=3, bias=True)\n",
       "  )\n",
       ")"
      ]
     },
     "execution_count": 31,
     "metadata": {},
     "output_type": "execute_result"
    }
   ],
   "source": [
    "model = torch.load('./checkpoints/model_5.ckpt')\n",
    "model.to(device)"
   ]
  },
  {
   "cell_type": "code",
   "execution_count": 32,
   "metadata": {},
   "outputs": [
    {
     "name": "stderr",
     "output_type": "stream",
     "text": [
      "100%|██████████| 616/616 [00:05<00:00, 115.41it/s]"
     ]
    },
    {
     "name": "stdout",
     "output_type": "stream",
     "text": [
      "Test Result:\n",
      "Spearman Corr: 0.8374603390693665\n",
      "Accuracy: 0.8692916631698608\n",
      "F1 score: 0.8618003129959106\n"
     ]
    },
    {
     "name": "stderr",
     "output_type": "stream",
     "text": [
      "\n"
     ]
    }
   ],
   "source": [
    "pbar = tqdm(dl_test)\n",
    "model.eval()\n",
    "\n",
    "pred_relatedness_list = []\n",
    "pred_entailment_list = []\n",
    "gt_relatedness = []\n",
    "gt_entailment = []\n",
    "with torch.no_grad():\n",
    "    for batch_data in pbar:\n",
    "        input_ids = batch_data['input_ids'].to(device)\n",
    "        token_type_ids = batch_data['token_type_ids'].to(device)\n",
    "        attention_mask = batch_data['attention_mask'].to(device)\n",
    "        relatedness_score = batch_data['relatedness_score'].to(device)\n",
    "        entailment_judgments = batch_data['entailment_judgments'].to(device)\n",
    "\n",
    "        # Forward\n",
    "        pred_relatedness, pred_entailment = model(input_ids, token_type_ids, attention_mask)\n",
    "\n",
    "        pred_relatedness_list.append(pred_relatedness)\n",
    "        pred_entailment_list.append(torch.argmax(pred_entailment, dim=-1)) # predict class label\n",
    "        gt_relatedness.append(relatedness_score)\n",
    "        gt_entailment.append(entailment_judgments)\n",
    "\n",
    "# evaluation\n",
    "pred_relatedness_tensor = torch.cat(pred_relatedness_list).view(-1).to('cpu')\n",
    "pred_entailment_tensor = torch.cat(pred_entailment_list).view(-1).to('cpu')\n",
    "gt_relatedness = torch.cat(gt_relatedness).view(-1).to('cpu')\n",
    "gt_entailment = torch.cat(gt_entailment).view(-1).to('cpu')\n",
    "\n",
    "relation_coeff = spc(pred_relatedness_tensor, gt_relatedness)\n",
    "entail_acc = acc(pred_entailment_tensor, gt_entailment)\n",
    "entail_f1 = f1(pred_entailment_tensor, gt_entailment)\n",
    "\n",
    "print(\"Test Result:\")\n",
    "print(f\"Spearman Corr: {relation_coeff}\")\n",
    "print(f\"Accuracy: {entail_acc}\")\n",
    "print(f\"F1 score: {entail_f1}\")"
   ]
  },
  {
   "cell_type": "markdown",
   "metadata": {},
   "source": [
    "## Experiment"
   ]
  },
  {
   "cell_type": "markdown",
   "metadata": {},
   "source": [
    "### Train on seperate model"
   ]
  },
  {
   "cell_type": "code",
   "execution_count": 33,
   "metadata": {},
   "outputs": [],
   "source": [
    "class RelatedModel(torch.nn.Module):\n",
    "    def __init__(self, linear_hidden):\n",
    "        super(RelatedModel, self).__init__()\n",
    "        self.bert = BertModel.from_pretrained(\"bert-base-uncased\", cache_dir=\"./cache/\")\n",
    "        self.bert_hidden = self.bert.config.hidden_size # in bert, hidden size should be 768\n",
    "        self.linear_hidden = linear_hidden\n",
    "        self.linear = torch.nn.Sequential(\n",
    "            torch.nn.Linear(in_features=self.bert_hidden, out_features=linear_hidden),\n",
    "            torch.nn.ReLU(),\n",
    "            torch.nn.Dropout(0.3),\n",
    "            torch.nn.Linear(in_features=self.linear_hidden, out_features=1)\n",
    "        )\n",
    "\n",
    "    def forward(self, input_ids, token_type_ids, attention_mask):\n",
    "        bert_out = self.bert(input_ids=input_ids, attention_mask=attention_mask, token_type_ids=token_type_ids)\n",
    "        cls_out = bert_out.pooler_output # shape: (batch_size, hidden_size)\n",
    "        relatedness_score = self.linear(cls_out).squeeze(-1)\n",
    "\n",
    "        return relatedness_score"
   ]
  },
  {
   "cell_type": "code",
   "execution_count": 34,
   "metadata": {},
   "outputs": [],
   "source": [
    "class EntailModel(torch.nn.Module):\n",
    "    def __init__(self, linear_hidden):\n",
    "        super(EntailModel, self).__init__()\n",
    "        self.bert = BertModel.from_pretrained(\"bert-base-uncased\", cache_dir=\"./cache/\")\n",
    "        self.bert_hidden = self.bert.config.hidden_size # in bert, hidden size should be 768\n",
    "        self.linear_hidden = linear_hidden\n",
    "        self.linear = torch.nn.Sequential(\n",
    "            torch.nn.Linear(in_features=self.bert_hidden, out_features=linear_hidden),\n",
    "            torch.nn.ReLU(),\n",
    "            torch.nn.Dropout(0.3),\n",
    "            torch.nn.Linear(in_features=self.linear_hidden, out_features=3)\n",
    "        )\n",
    "\n",
    "    def forward(self, input_ids, token_type_ids, attention_mask):\n",
    "        bert_out = self.bert(input_ids=input_ids, attention_mask=attention_mask, token_type_ids=token_type_ids)\n",
    "        cls_out = bert_out.pooler_output # shape: (batch_size, hidden_size)\n",
    "        entailment_judgments = self.linear(cls_out)\n",
    "\n",
    "        return entailment_judgments"
   ]
  },
  {
   "cell_type": "code",
   "execution_count": 35,
   "metadata": {},
   "outputs": [],
   "source": [
    "related_model = RelatedModel(linear_hidden=linear_hidden).to(device)\n",
    "entail_model = EntailModel(linear_hidden=linear_hidden).to(device)\n",
    "\n",
    "opt_related = Adam(related_model.parameters(), lr=lr)\n",
    "opt_entail = Adam(entail_model.parameters(), lr=lr)"
   ]
  },
  {
   "cell_type": "code",
   "execution_count": 29,
   "metadata": {},
   "outputs": [
    {
     "name": "stderr",
     "output_type": "stream",
     "text": [
      "Training epoch [1/5]: 100%|██████████| 563/563 [00:40<00:00, 13.74it/s]\n",
      "Validation epoch [1/5]: 100%|██████████| 63/63 [00:01<00:00, 60.69it/s]\n"
     ]
    },
    {
     "name": "stdout",
     "output_type": "stream",
     "text": [
      "Validation Result:\n",
      "Spearman Corr: 0.7805007696151733\n",
      "Accuracy: 0.828000009059906\n",
      "F1 score: 0.8246787786483765\n"
     ]
    },
    {
     "name": "stderr",
     "output_type": "stream",
     "text": [
      "Training epoch [2/5]: 100%|██████████| 563/563 [00:41<00:00, 13.73it/s]\n",
      "Validation epoch [2/5]: 100%|██████████| 63/63 [00:01<00:00, 60.06it/s]\n"
     ]
    },
    {
     "name": "stdout",
     "output_type": "stream",
     "text": [
      "Validation Result:\n",
      "Spearman Corr: 0.8085740208625793\n",
      "Accuracy: 0.8299999833106995\n",
      "F1 score: 0.8248724937438965\n"
     ]
    },
    {
     "name": "stderr",
     "output_type": "stream",
     "text": [
      "Training epoch [3/5]: 100%|██████████| 563/563 [00:41<00:00, 13.67it/s]\n",
      "Validation epoch [3/5]: 100%|██████████| 63/63 [00:01<00:00, 59.83it/s]\n"
     ]
    },
    {
     "name": "stdout",
     "output_type": "stream",
     "text": [
      "Validation Result:\n",
      "Spearman Corr: 0.8354228138923645\n",
      "Accuracy: 0.8299999833106995\n",
      "F1 score: 0.8290634155273438\n"
     ]
    },
    {
     "name": "stderr",
     "output_type": "stream",
     "text": [
      "Training epoch [4/5]: 100%|██████████| 563/563 [00:41<00:00, 13.68it/s]\n",
      "Validation epoch [4/5]: 100%|██████████| 63/63 [00:01<00:00, 60.23it/s]\n"
     ]
    },
    {
     "name": "stdout",
     "output_type": "stream",
     "text": [
      "Validation Result:\n",
      "Spearman Corr: 0.7990412712097168\n",
      "Accuracy: 0.8420000076293945\n",
      "F1 score: 0.8432999849319458\n"
     ]
    },
    {
     "name": "stderr",
     "output_type": "stream",
     "text": [
      "Training epoch [5/5]: 100%|██████████| 563/563 [00:41<00:00, 13.66it/s]\n",
      "Validation epoch [5/5]: 100%|██████████| 63/63 [00:01<00:00, 60.14it/s]"
     ]
    },
    {
     "name": "stdout",
     "output_type": "stream",
     "text": [
      "Validation Result:\n",
      "Spearman Corr: 0.8118767142295837\n",
      "Accuracy: 0.8379999995231628\n",
      "F1 score: 0.8323549032211304\n"
     ]
    },
    {
     "name": "stderr",
     "output_type": "stream",
     "text": [
      "\n"
     ]
    }
   ],
   "source": [
    "for ep in range(epochs):\n",
    "    pbar = tqdm(dl_train)\n",
    "    pbar.set_description(f\"Training epoch [{ep+1}/{epochs}]\")\n",
    "    related_model.train()\n",
    "    entail_model.train()\n",
    "    for batch_data in pbar:\n",
    "        input_ids = batch_data['input_ids'].to(device)\n",
    "        token_type_ids = batch_data['token_type_ids'].to(device)\n",
    "        attention_mask = batch_data['attention_mask'].to(device)\n",
    "        relatedness_score = batch_data['relatedness_score'].to(device)\n",
    "        entailment_judgments = batch_data['entailment_judgments'].to(device)\n",
    "\n",
    "        # Forward\n",
    "        opt_related.zero_grad()\n",
    "        opt_entail.zero_grad()\n",
    "        pred_relatedness = related_model(input_ids, token_type_ids, attention_mask)\n",
    "        pred_entailment = entail_model(input_ids, token_type_ids, attention_mask)\n",
    "\n",
    "        # Backward\n",
    "        regression_loss = mse_loss(pred_relatedness, relatedness_score)\n",
    "        classification_loss = cross_entropy_loss(pred_entailment, entailment_judgments)\n",
    "        regression_loss.backward()\n",
    "        classification_loss.backward()\n",
    "\n",
    "        # Optimize\n",
    "        opt_related.step()\n",
    "        opt_entail.step()\n",
    "\n",
    "    # validation\n",
    "    pbar = tqdm(dl_valid)\n",
    "    pbar.set_description(f\"Validation epoch [{ep+1}/{epochs}]\")\n",
    "    related_model.eval()\n",
    "    entail_model.eval()\n",
    "    pred_relatedness_list = []\n",
    "    pred_entailment_list = []\n",
    "    gt_relatedness = []\n",
    "    gt_entailment = []\n",
    "    with torch.no_grad():\n",
    "        for batch_data in pbar:\n",
    "            input_ids = batch_data['input_ids'].to(device)\n",
    "            token_type_ids = batch_data['token_type_ids'].to(device)\n",
    "            attention_mask = batch_data['attention_mask'].to(device)\n",
    "            relatedness_score = batch_data['relatedness_score'].to(device)\n",
    "            entailment_judgments = batch_data['entailment_judgments'].to(device)\n",
    "\n",
    "            # Forward\n",
    "            pred_relatedness = related_model(input_ids, token_type_ids, attention_mask)\n",
    "            pred_entailment = entail_model(input_ids, token_type_ids, attention_mask)\n",
    "\n",
    "            pred_relatedness_list.append(pred_relatedness)\n",
    "            pred_entailment_list.append(torch.argmax(pred_entailment, dim=-1)) # predict class label\n",
    "            gt_relatedness.append(relatedness_score)\n",
    "            gt_entailment.append(entailment_judgments)\n",
    "    \n",
    "    # evaluation\n",
    "    pred_relatedness_tensor = torch.cat(pred_relatedness_list).view(-1).to('cpu')\n",
    "    pred_entailment_tensor = torch.cat(pred_entailment_list).view(-1).to('cpu')\n",
    "    gt_relatedness = torch.cat(gt_relatedness).view(-1).to('cpu')\n",
    "    gt_entailment = torch.cat(gt_entailment).view(-1).to('cpu')\n",
    "\n",
    "    relation_coeff = spc(pred_relatedness_tensor, gt_relatedness)\n",
    "    entail_acc = acc(pred_entailment_tensor, gt_entailment)\n",
    "    entail_f1 = f1(pred_entailment_tensor, gt_entailment)\n",
    "\n",
    "    print(\"Validation Result:\")\n",
    "    print(f\"Spearman Corr: {relation_coeff}\")\n",
    "    print(f\"Accuracy: {entail_acc}\")\n",
    "    print(f\"F1 score: {entail_f1}\")"
   ]
  },
  {
   "cell_type": "code",
   "execution_count": 30,
   "metadata": {},
   "outputs": [
    {
     "name": "stderr",
     "output_type": "stream",
     "text": [
      "100%|██████████| 616/616 [00:09<00:00, 62.66it/s]"
     ]
    },
    {
     "name": "stdout",
     "output_type": "stream",
     "text": [
      "Test Result:\n",
      "Spearman Corr: 0.817692220211029\n",
      "Accuracy: 0.8666531443595886\n",
      "F1 score: 0.8555988073348999\n"
     ]
    },
    {
     "name": "stderr",
     "output_type": "stream",
     "text": [
      "\n"
     ]
    }
   ],
   "source": [
    "pbar = tqdm(dl_test)\n",
    "related_model.eval()\n",
    "entail_model.eval()\n",
    "\n",
    "pred_relatedness_list = []\n",
    "pred_entailment_list = []\n",
    "gt_relatedness = []\n",
    "gt_entailment = []\n",
    "with torch.no_grad():\n",
    "    for batch_data in pbar:\n",
    "        input_ids = batch_data['input_ids'].to(device)\n",
    "        token_type_ids = batch_data['token_type_ids'].to(device)\n",
    "        attention_mask = batch_data['attention_mask'].to(device)\n",
    "        relatedness_score = batch_data['relatedness_score'].to(device)\n",
    "        entailment_judgments = batch_data['entailment_judgments'].to(device)\n",
    "\n",
    "        # Forward\n",
    "        pred_relatedness = related_model(input_ids, token_type_ids, attention_mask)\n",
    "        pred_entailment = entail_model(input_ids, token_type_ids, attention_mask)\n",
    "\n",
    "        pred_relatedness_list.append(pred_relatedness)\n",
    "        pred_entailment_list.append(torch.argmax(pred_entailment, dim=-1)) # predict class label\n",
    "        gt_relatedness.append(relatedness_score)\n",
    "        gt_entailment.append(entailment_judgments)\n",
    "\n",
    "# evaluation\n",
    "pred_relatedness_tensor = torch.cat(pred_relatedness_list).view(-1).to('cpu')\n",
    "pred_entailment_tensor = torch.cat(pred_entailment_list).view(-1).to('cpu')\n",
    "gt_relatedness = torch.cat(gt_relatedness).view(-1).to('cpu')\n",
    "gt_entailment = torch.cat(gt_entailment).view(-1).to('cpu')\n",
    "\n",
    "relation_coeff = spc(pred_relatedness_tensor, gt_relatedness)\n",
    "entail_acc = acc(pred_entailment_tensor, gt_entailment)\n",
    "entail_f1 = f1(pred_entailment_tensor, gt_entailment)\n",
    "\n",
    "print(\"Test Result:\")\n",
    "print(f\"Spearman Corr: {relation_coeff}\")\n",
    "print(f\"Accuracy: {entail_acc}\")\n",
    "print(f\"F1 score: {entail_f1}\")"
   ]
  },
  {
   "cell_type": "markdown",
   "metadata": {},
   "source": [
    "### Error Analysis"
   ]
  },
  {
   "cell_type": "code",
   "execution_count": 37,
   "metadata": {},
   "outputs": [
    {
     "name": "stderr",
     "output_type": "stream",
     "text": [
      "/tmp/ipykernel_216455/4044531764.py:1: FutureWarning: You are using `torch.load` with `weights_only=False` (the current default value), which uses the default pickle module implicitly. It is possible to construct malicious pickle data which will execute arbitrary code during unpickling (See https://github.com/pytorch/pytorch/blob/main/SECURITY.md#untrusted-models for more details). In a future release, the default value for `weights_only` will be flipped to `True`. This limits the functions that could be executed during unpickling. Arbitrary objects will no longer be allowed to be loaded via this mode unless they are explicitly allowlisted by the user via `torch.serialization.add_safe_globals`. We recommend you start setting `weights_only=True` for any use case where you don't have full control of the loaded file. Please open an issue on GitHub for any issues related to this experimental feature.\n",
      "  model = torch.load('./checkpoints/model_5.ckpt')\n"
     ]
    },
    {
     "data": {
      "text/plain": [
       "MultiLabelModel(\n",
       "  (bert): BertModel(\n",
       "    (embeddings): BertEmbeddings(\n",
       "      (word_embeddings): Embedding(30522, 768, padding_idx=0)\n",
       "      (position_embeddings): Embedding(512, 768)\n",
       "      (token_type_embeddings): Embedding(2, 768)\n",
       "      (LayerNorm): LayerNorm((768,), eps=1e-12, elementwise_affine=True)\n",
       "      (dropout): Dropout(p=0.1, inplace=False)\n",
       "    )\n",
       "    (encoder): BertEncoder(\n",
       "      (layer): ModuleList(\n",
       "        (0-11): 12 x BertLayer(\n",
       "          (attention): BertAttention(\n",
       "            (self): BertSdpaSelfAttention(\n",
       "              (query): Linear(in_features=768, out_features=768, bias=True)\n",
       "              (key): Linear(in_features=768, out_features=768, bias=True)\n",
       "              (value): Linear(in_features=768, out_features=768, bias=True)\n",
       "              (dropout): Dropout(p=0.1, inplace=False)\n",
       "            )\n",
       "            (output): BertSelfOutput(\n",
       "              (dense): Linear(in_features=768, out_features=768, bias=True)\n",
       "              (LayerNorm): LayerNorm((768,), eps=1e-12, elementwise_affine=True)\n",
       "              (dropout): Dropout(p=0.1, inplace=False)\n",
       "            )\n",
       "          )\n",
       "          (intermediate): BertIntermediate(\n",
       "            (dense): Linear(in_features=768, out_features=3072, bias=True)\n",
       "            (intermediate_act_fn): GELUActivation()\n",
       "          )\n",
       "          (output): BertOutput(\n",
       "            (dense): Linear(in_features=3072, out_features=768, bias=True)\n",
       "            (LayerNorm): LayerNorm((768,), eps=1e-12, elementwise_affine=True)\n",
       "            (dropout): Dropout(p=0.1, inplace=False)\n",
       "          )\n",
       "        )\n",
       "      )\n",
       "    )\n",
       "    (pooler): BertPooler(\n",
       "      (dense): Linear(in_features=768, out_features=768, bias=True)\n",
       "      (activation): Tanh()\n",
       "    )\n",
       "  )\n",
       "  (relatedness_score_linear): Sequential(\n",
       "    (0): Linear(in_features=768, out_features=128, bias=True)\n",
       "    (1): ReLU()\n",
       "    (2): Dropout(p=0.3, inplace=False)\n",
       "    (3): Linear(in_features=128, out_features=1, bias=True)\n",
       "  )\n",
       "  (entailment_judgments_linear): Sequential(\n",
       "    (0): Linear(in_features=768, out_features=128, bias=True)\n",
       "    (1): ReLU()\n",
       "    (2): Dropout(p=0.3, inplace=False)\n",
       "    (3): Linear(in_features=128, out_features=3, bias=True)\n",
       "  )\n",
       ")"
      ]
     },
     "execution_count": 37,
     "metadata": {},
     "output_type": "execute_result"
    }
   ],
   "source": [
    "model = torch.load('./checkpoints/model_5.ckpt')\n",
    "model.to(device)"
   ]
  },
  {
   "cell_type": "code",
   "execution_count": 38,
   "metadata": {},
   "outputs": [
    {
     "name": "stderr",
     "output_type": "stream",
     "text": [
      "100%|██████████| 616/616 [00:05<00:00, 114.02it/s]\n"
     ]
    }
   ],
   "source": [
    "pbar = tqdm(dl_test)\n",
    "model.eval()\n",
    "\n",
    "pred_relatedness_list = []\n",
    "pred_entailment_list = []\n",
    "gt_relatedness = []\n",
    "gt_entailment = []\n",
    "with torch.no_grad():\n",
    "    for batch_data in pbar:\n",
    "        input_ids = batch_data['input_ids'].to(device)\n",
    "        token_type_ids = batch_data['token_type_ids'].to(device)\n",
    "        attention_mask = batch_data['attention_mask'].to(device)\n",
    "        relatedness_score = batch_data['relatedness_score'].to(device)\n",
    "        entailment_judgments = batch_data['entailment_judgments'].to(device)\n",
    "\n",
    "        # Forward\n",
    "        pred_relatedness, pred_entailment = model(input_ids, token_type_ids, attention_mask)\n",
    "\n",
    "        pred_relatedness_list.append(pred_relatedness)\n",
    "        pred_entailment_list.append(torch.argmax(pred_entailment, dim=-1)) # predict class label\n",
    "        gt_relatedness.append(relatedness_score)\n",
    "        gt_entailment.append(entailment_judgments)\n",
    "\n",
    "# evaluation\n",
    "pred_relatedness_tensor = torch.cat(pred_relatedness_list).view(-1).to('cpu')\n",
    "pred_entailment_tensor = torch.cat(pred_entailment_list).view(-1).to('cpu')\n",
    "gt_relatedness = torch.cat(gt_relatedness).view(-1).to('cpu')\n",
    "gt_entailment = torch.cat(gt_entailment).view(-1).to('cpu')"
   ]
  },
  {
   "cell_type": "code",
   "execution_count": 52,
   "metadata": {},
   "outputs": [
    {
     "name": "stderr",
     "output_type": "stream",
     "text": [
      "4927it [00:00, 165565.07it/s]\n"
     ]
    }
   ],
   "source": [
    "error_idxs = []\n",
    "controdiction_idx = 0\n",
    "max_diff_idx = 0\n",
    "max_diff_val = 0\n",
    "idx = 0\n",
    "for pred_relate, pred_entail, gt_relate, gt_entail in tqdm(zip(pred_relatedness_tensor, pred_entailment_tensor, gt_relatedness, gt_entailment)):\n",
    "    if(pred_entail != gt_entail):\n",
    "        error_idxs.append(idx)\n",
    "        if(abs(pred_relate - gt_relate) > max_diff_val):\n",
    "            max_diff_idx = idx\n",
    "            max_diff_val = abs(pred_relate - gt_relate)\n",
    "    idx += 1"
   ]
  },
  {
   "cell_type": "code",
   "execution_count": 56,
   "metadata": {},
   "outputs": [
    {
     "name": "stdout",
     "output_type": "stream",
     "text": [
      "Premise: A woman wearing a blue shirt and high heels is standing on the sidewalk next to a man\n",
      "Hypothesis: A man and a woman are standing on the curb\n",
      "Relatedness score label: 4.199999809265137 Pred: 3.6195015907287598\n",
      "Entailment label: 1, Pred: 0\n",
      "\n",
      "Premise: A man is getting into a car in a garage\n",
      "Hypothesis: A man is getting a garage for the car\n",
      "Relatedness score label: 3.0 Pred: 3.780789613723755\n",
      "Entailment label: 0, Pred: 1\n",
      "\n",
      "Premise: A person is kicking a soccer ball between their feet\n",
      "Hypothesis: The person who is playing soccer is kicking the ball between somebody's legs\n",
      "Relatedness score label: 3.799999952316284 Pred: 3.825627565383911\n",
      "Entailment label: 1, Pred: 0\n",
      "\n",
      "Premise: The animal with big eyes is eating\n",
      "Hypothesis: A lemur is eating\n",
      "Relatedness score label: 4.099999904632568 Pred: 3.8716955184936523\n",
      "Entailment label: 0, Pred: 1\n",
      "\n",
      "Premise: Women are wearing bunny ears and race numbers and are pointing at something in the distance\n",
      "Hypothesis: The women are wearing something right and pointing at several bunny ears\n",
      "Relatedness score label: 2.914999961853028 Pred: 4.0284833908081055\n",
      "Entailment label: 0, Pred: 1\n",
      "\n"
     ]
    }
   ],
   "source": [
    "count = 5\n",
    "for err_idx in np.random.choice(error_idxs, size=count, replace=False):\n",
    "    print(\"Premise:\", df_test['premise'][err_idx])\n",
    "    print(\"Hypothesis:\", df_test['hypothesis'][err_idx])\n",
    "    print(f\"Relatedness score label: {df_test['relatedness_score'][err_idx]} Pred: {pred_relatedness_tensor[err_idx].item()}\")\n",
    "    print(f\"Entailment label: {df_test['entailment_judgment'][err_idx]}, Pred: {pred_entailment_tensor[err_idx].item()}\")\n",
    "    print()\n"
   ]
  },
  {
   "cell_type": "code",
   "execution_count": 50,
   "metadata": {},
   "outputs": [
    {
     "data": {
      "image/png": "[encoded data removed]",
      "text/plain": [
       "<Figure size 800x600 with 2 Axes>"
      ]
     },
     "metadata": {},
     "output_type": "display_data"
    }
   ],
   "source": [
    "# This cell is generated by chatgpt\n",
    "import matplotlib.pyplot as plt\n",
    "import seaborn as sns\n",
    "from sklearn.metrics import confusion_matrix\n",
    "\n",
    "pred_entailment = pred_entailment_tensor.numpy()\n",
    "gt_entailment = gt_entailment.numpy()\n",
    "\n",
    "conf_matrix = confusion_matrix(gt_entailment, pred_entailment)\n",
    "\n",
    "plt.figure(figsize=(8, 6))\n",
    "sns.heatmap(conf_matrix, annot=True, fmt=\"d\", cmap=\"Blues\", xticklabels=[\"Neutral\", \"Entailment\", \"Contradiction\"], yticklabels=[\"Neutral\", \"Entailment\", \"Contradiction\"])\n",
    "plt.xlabel(\"Predicted Labels\")\n",
    "plt.ylabel(\"True Labels\")\n",
    "plt.title(\"Confusion Matrix for Entailment Judgement\")\n",
    "plt.show()"
   ]
  },
  {
   "cell_type": "code",
   "execution_count": null,
   "metadata": {},
   "outputs": [],
   "source": []
  }
 ],
 "metadata": {
  "kernelspec": {
   "display_name": "torch_gpu",
   "language": "python",
   "name": "python3"
  },
  "language_info": {
   "codemirror_mode": {
    "name": "ipython",
    "version": 3
   },
   "file_extension": ".py",
   "mimetype": "text/x-python",
   "name": "python",
   "nbconvert_exporter": "python",
   "pygments_lexer": "ipython3",
   "version": "3.10.15"
  }
 },
 "nbformat": 4,
 "nbformat_minor": 2
}
